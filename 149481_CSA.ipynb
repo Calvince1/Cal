{
  "nbformat": 4,
  "nbformat_minor": 0,
  "metadata": {
    "colab": {
      "provenance": [],
      "authorship_tag": "ABX9TyNOBrdRL82gW2AeUWAO+hdf",
      "include_colab_link": true
    },
    "kernelspec": {
      "name": "python3",
      "display_name": "Python 3"
    },
    "language_info": {
      "name": "python"
    }
  },
  "cells": [
    {
      "cell_type": "markdown",
      "metadata": {
        "id": "view-in-github",
        "colab_type": "text"
      },
      "source": [
        "<a href=\"https://colab.research.google.com/github/Calvince1/Cal/blob/main/149481_CSA.ipynb\" target=\"_parent\"><img src=\"https://colab.research.google.com/assets/colab-badge.svg\" alt=\"Open In Colab\"/></a>"
      ]
    },
    {
      "cell_type": "markdown",
      "source": [
        "\n",
        "\n",
        "> **CALVINCE ONYANGO**\n",
        "\n",
        "\n",
        "> **REG NO- 149481**\n",
        "\n",
        "\n",
        "\n",
        "> **MENTAL HEALTH IN TECH**\n",
        "\n",
        "\n",
        "\n",
        "> **CSA- CAT**\n",
        "\n",
        "\n",
        "\n",
        "\n",
        "\n"
      ],
      "metadata": {
        "id": "2pI4be1TtAPv"
      }
    },
    {
      "cell_type": "markdown",
      "source": [
        "**Objectives**\n"
      ],
      "metadata": {
        "id": "aMXT_EOJt5QX"
      }
    },
    {
      "cell_type": "code",
      "source": [],
      "metadata": {
        "id": "r33lJGY0u4B2"
      },
      "execution_count": null,
      "outputs": []
    }
  ]
}