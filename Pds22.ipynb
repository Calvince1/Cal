{
  "nbformat": 4,
  "nbformat_minor": 0,
  "metadata": {
    "colab": {
      "provenance": [],
      "include_colab_link": true
    },
    "kernelspec": {
      "name": "python3",
      "display_name": "Python 3"
    },
    "language_info": {
      "name": "python"
    }
  },
  "cells": [
    {
      "cell_type": "markdown",
      "metadata": {
        "id": "view-in-github",
        "colab_type": "text"
      },
      "source": [
        "<a href=\"https://colab.research.google.com/github/Calvince1/Cal/blob/main/Pds22.ipynb\" target=\"_parent\"><img src=\"https://colab.research.google.com/assets/colab-badge.svg\" alt=\"Open In Colab\"/></a>"
      ]
    },
    {
      "cell_type": "code",
      "execution_count": null,
      "metadata": {
        "id": "lYLqiwSJTM37"
      },
      "outputs": [],
      "source": [
        "# Load libraries\n",
        "\n",
        "import pandas as pd\n",
        "import matplotlib.pyplot as plt\n",
        "import numpy as np\n",
        "import seaborn as sns\n"
      ]
    },
    {
      "cell_type": "markdown",
      "source": [
        "**Analysis of Scoring in the NFL**.\n",
        "\n",
        "1. The file ScoringNFL contains the points scored by each National Football League team for 10 seasons. NFL leadership is interested in seeing how the distribution of scoring across the league has changed over these 10 seasons. Construct a single chart that allows the audience to make these comparisons. Provide a thorough discussion of the distribution of scoring in the league over this decade.\n",
        "\n",
        "2. NFL leadership is also interested in the temporal patterns in scoring for individual teams. Unstack the data and use sparklines to show how scoring for each team has changed over these 10 seasons. List a team with a strong upward trend over these 10 seasons. List a team with a strong downward trend over these 10 seasons."
      ],
      "metadata": {
        "id": "06xIM8etTnf9"
      }
    },
    {
      "cell_type": "code",
      "source": [
        "from google.colab import drive\n",
        "drive.mount('/content/drive')"
      ],
      "metadata": {
        "colab": {
          "base_uri": "https://localhost:8080/"
        },
        "id": "NOOPtCRdasp_",
        "outputId": "c118d90d-7d40-4c27-e373-0ed2981cf18a"
      },
      "execution_count": null,
      "outputs": [
        {
          "output_type": "stream",
          "name": "stdout",
          "text": [
            "Mounted at /content/drive\n"
          ]
        }
      ]
    },
    {
      "cell_type": "code",
      "source": [
        "# Load data\n",
        "data = pd.read_excel(\"/content/drive/MyDrive/Copy of ScoringNFL.xlsx\")\n",
        "data.head()"
      ],
      "metadata": {
        "colab": {
          "base_uri": "https://localhost:8080/",
          "height": 206
        },
        "id": "5i-hGg6aT4CC",
        "outputId": "72bb318e-3215-4c41-e750-497cf054c406"
      },
      "execution_count": null,
      "outputs": [
        {
          "output_type": "execute_result",
          "data": {
            "text/plain": [
              "                   Team  Season  Points Scored\n",
              "0      Baltimore Ravens    2010          357.0\n",
              "1   San Francisco 49ers    2010          305.0\n",
              "2  Tampa Bay Buccaneers    2010          341.0\n",
              "3    New Orleans Saints    2010          384.0\n",
              "4    Kansas City Chiefs    2010          366.0"
            ],
            "text/html": [
              "\n",
              "  <div id=\"df-8b49a202-72ef-4a52-a9bf-e1693aa4c6f6\">\n",
              "    <div class=\"colab-df-container\">\n",
              "      <div>\n",
              "<style scoped>\n",
              "    .dataframe tbody tr th:only-of-type {\n",
              "        vertical-align: middle;\n",
              "    }\n",
              "\n",
              "    .dataframe tbody tr th {\n",
              "        vertical-align: top;\n",
              "    }\n",
              "\n",
              "    .dataframe thead th {\n",
              "        text-align: right;\n",
              "    }\n",
              "</style>\n",
              "<table border=\"1\" class=\"dataframe\">\n",
              "  <thead>\n",
              "    <tr style=\"text-align: right;\">\n",
              "      <th></th>\n",
              "      <th>Team</th>\n",
              "      <th>Season</th>\n",
              "      <th>Points Scored</th>\n",
              "    </tr>\n",
              "  </thead>\n",
              "  <tbody>\n",
              "    <tr>\n",
              "      <th>0</th>\n",
              "      <td>Baltimore Ravens</td>\n",
              "      <td>2010</td>\n",
              "      <td>357.0</td>\n",
              "    </tr>\n",
              "    <tr>\n",
              "      <th>1</th>\n",
              "      <td>San Francisco 49ers</td>\n",
              "      <td>2010</td>\n",
              "      <td>305.0</td>\n",
              "    </tr>\n",
              "    <tr>\n",
              "      <th>2</th>\n",
              "      <td>Tampa Bay Buccaneers</td>\n",
              "      <td>2010</td>\n",
              "      <td>341.0</td>\n",
              "    </tr>\n",
              "    <tr>\n",
              "      <th>3</th>\n",
              "      <td>New Orleans Saints</td>\n",
              "      <td>2010</td>\n",
              "      <td>384.0</td>\n",
              "    </tr>\n",
              "    <tr>\n",
              "      <th>4</th>\n",
              "      <td>Kansas City Chiefs</td>\n",
              "      <td>2010</td>\n",
              "      <td>366.0</td>\n",
              "    </tr>\n",
              "  </tbody>\n",
              "</table>\n",
              "</div>\n",
              "      <button class=\"colab-df-convert\" onclick=\"convertToInteractive('df-8b49a202-72ef-4a52-a9bf-e1693aa4c6f6')\"\n",
              "              title=\"Convert this dataframe to an interactive table.\"\n",
              "              style=\"display:none;\">\n",
              "        \n",
              "  <svg xmlns=\"http://www.w3.org/2000/svg\" height=\"24px\"viewBox=\"0 0 24 24\"\n",
              "       width=\"24px\">\n",
              "    <path d=\"M0 0h24v24H0V0z\" fill=\"none\"/>\n",
              "    <path d=\"M18.56 5.44l.94 2.06.94-2.06 2.06-.94-2.06-.94-.94-2.06-.94 2.06-2.06.94zm-11 1L8.5 8.5l.94-2.06 2.06-.94-2.06-.94L8.5 2.5l-.94 2.06-2.06.94zm10 10l.94 2.06.94-2.06 2.06-.94-2.06-.94-.94-2.06-.94 2.06-2.06.94z\"/><path d=\"M17.41 7.96l-1.37-1.37c-.4-.4-.92-.59-1.43-.59-.52 0-1.04.2-1.43.59L10.3 9.45l-7.72 7.72c-.78.78-.78 2.05 0 2.83L4 21.41c.39.39.9.59 1.41.59.51 0 1.02-.2 1.41-.59l7.78-7.78 2.81-2.81c.8-.78.8-2.07 0-2.86zM5.41 20L4 18.59l7.72-7.72 1.47 1.35L5.41 20z\"/>\n",
              "  </svg>\n",
              "      </button>\n",
              "      \n",
              "  <style>\n",
              "    .colab-df-container {\n",
              "      display:flex;\n",
              "      flex-wrap:wrap;\n",
              "      gap: 12px;\n",
              "    }\n",
              "\n",
              "    .colab-df-convert {\n",
              "      background-color: #E8F0FE;\n",
              "      border: none;\n",
              "      border-radius: 50%;\n",
              "      cursor: pointer;\n",
              "      display: none;\n",
              "      fill: #1967D2;\n",
              "      height: 32px;\n",
              "      padding: 0 0 0 0;\n",
              "      width: 32px;\n",
              "    }\n",
              "\n",
              "    .colab-df-convert:hover {\n",
              "      background-color: #E2EBFA;\n",
              "      box-shadow: 0px 1px 2px rgba(60, 64, 67, 0.3), 0px 1px 3px 1px rgba(60, 64, 67, 0.15);\n",
              "      fill: #174EA6;\n",
              "    }\n",
              "\n",
              "    [theme=dark] .colab-df-convert {\n",
              "      background-color: #3B4455;\n",
              "      fill: #D2E3FC;\n",
              "    }\n",
              "\n",
              "    [theme=dark] .colab-df-convert:hover {\n",
              "      background-color: #434B5C;\n",
              "      box-shadow: 0px 1px 3px 1px rgba(0, 0, 0, 0.15);\n",
              "      filter: drop-shadow(0px 1px 2px rgba(0, 0, 0, 0.3));\n",
              "      fill: #FFFFFF;\n",
              "    }\n",
              "  </style>\n",
              "\n",
              "      <script>\n",
              "        const buttonEl =\n",
              "          document.querySelector('#df-8b49a202-72ef-4a52-a9bf-e1693aa4c6f6 button.colab-df-convert');\n",
              "        buttonEl.style.display =\n",
              "          google.colab.kernel.accessAllowed ? 'block' : 'none';\n",
              "\n",
              "        async function convertToInteractive(key) {\n",
              "          const element = document.querySelector('#df-8b49a202-72ef-4a52-a9bf-e1693aa4c6f6');\n",
              "          const dataTable =\n",
              "            await google.colab.kernel.invokeFunction('convertToInteractive',\n",
              "                                                     [key], {});\n",
              "          if (!dataTable) return;\n",
              "\n",
              "          const docLinkHtml = 'Like what you see? Visit the ' +\n",
              "            '<a target=\"_blank\" href=https://colab.research.google.com/notebooks/data_table.ipynb>data table notebook</a>'\n",
              "            + ' to learn more about interactive tables.';\n",
              "          element.innerHTML = '';\n",
              "          dataTable['output_type'] = 'display_data';\n",
              "          await google.colab.output.renderOutput(dataTable, element);\n",
              "          const docLink = document.createElement('div');\n",
              "          docLink.innerHTML = docLinkHtml;\n",
              "          element.appendChild(docLink);\n",
              "        }\n",
              "      </script>\n",
              "    </div>\n",
              "  </div>\n",
              "  "
            ]
          },
          "metadata": {},
          "execution_count": 3
        }
      ]
    },
    {
      "cell_type": "code",
      "source": [
        "data['Points Scored'].hist(bins=10)\n",
        "plt.show()"
      ],
      "metadata": {
        "id": "MvXnnTW9T4xw",
        "colab": {
          "base_uri": "https://localhost:8080/",
          "height": 265
        },
        "outputId": "9117c97f-6c00-4676-d07a-743b130f6b33"
      },
      "execution_count": null,
      "outputs": [
        {
          "output_type": "display_data",
          "data": {
            "text/plain": [
              "<Figure size 432x288 with 1 Axes>"
            ],
            "image/png": "[encoded data removed]"
          },
          "metadata": {
            "needs_background": "light"
          }
        }
      ]
    },
    {
      "cell_type": "code",
      "source": [
        "# Rename Points Scored column\n",
        "data = data.rename(columns={'Points Scored':'Scores'})\n"
      ],
      "metadata": {
        "id": "XhDmiPu_VXr5"
      },
      "execution_count": null,
      "outputs": []
    },
    {
      "cell_type": "code",
      "source": [
        "data.head()"
      ],
      "metadata": {
        "id": "i8Ul5m3FW5sQ",
        "colab": {
          "base_uri": "https://localhost:8080/",
          "height": 206
        },
        "outputId": "26d16a91-f2df-429b-b46c-e8eac82c63ab"
      },
      "execution_count": null,
      "outputs": [
        {
          "output_type": "execute_result",
          "data": {
            "text/plain": [
              "                   Team  Season  Scores\n",
              "0      Baltimore Ravens    2010   357.0\n",
              "1   San Francisco 49ers    2010   305.0\n",
              "2  Tampa Bay Buccaneers    2010   341.0\n",
              "3    New Orleans Saints    2010   384.0\n",
              "4    Kansas City Chiefs    2010   366.0"
            ],
            "text/html": [
              "\n",
              "  <div id=\"df-7ddea25f-ccdf-4dc1-835f-0a23ac4d7216\">\n",
              "    <div class=\"colab-df-container\">\n",
              "      <div>\n",
              "<style scoped>\n",
              "    .dataframe tbody tr th:only-of-type {\n",
              "        vertical-align: middle;\n",
              "    }\n",
              "\n",
              "    .dataframe tbody tr th {\n",
              "        vertical-align: top;\n",
              "    }\n",
              "\n",
              "    .dataframe thead th {\n",
              "        text-align: right;\n",
              "    }\n",
              "</style>\n",
              "<table border=\"1\" class=\"dataframe\">\n",
              "  <thead>\n",
              "    <tr style=\"text-align: right;\">\n",
              "      <th></th>\n",
              "      <th>Team</th>\n",
              "      <th>Season</th>\n",
              "      <th>Scores</th>\n",
              "    </tr>\n",
              "  </thead>\n",
              "  <tbody>\n",
              "    <tr>\n",
              "      <th>0</th>\n",
              "      <td>Baltimore Ravens</td>\n",
              "      <td>2010</td>\n",
              "      <td>357.0</td>\n",
              "    </tr>\n",
              "    <tr>\n",
              "      <th>1</th>\n",
              "      <td>San Francisco 49ers</td>\n",
              "      <td>2010</td>\n",
              "      <td>305.0</td>\n",
              "    </tr>\n",
              "    <tr>\n",
              "      <th>2</th>\n",
              "      <td>Tampa Bay Buccaneers</td>\n",
              "      <td>2010</td>\n",
              "      <td>341.0</td>\n",
              "    </tr>\n",
              "    <tr>\n",
              "      <th>3</th>\n",
              "      <td>New Orleans Saints</td>\n",
              "      <td>2010</td>\n",
              "      <td>384.0</td>\n",
              "    </tr>\n",
              "    <tr>\n",
              "      <th>4</th>\n",
              "      <td>Kansas City Chiefs</td>\n",
              "      <td>2010</td>\n",
              "      <td>366.0</td>\n",
              "    </tr>\n",
              "  </tbody>\n",
              "</table>\n",
              "</div>\n",
              "      <button class=\"colab-df-convert\" onclick=\"convertToInteractive('df-7ddea25f-ccdf-4dc1-835f-0a23ac4d7216')\"\n",
              "              title=\"Convert this dataframe to an interactive table.\"\n",
              "              style=\"display:none;\">\n",
              "        \n",
              "  <svg xmlns=\"http://www.w3.org/2000/svg\" height=\"24px\"viewBox=\"0 0 24 24\"\n",
              "       width=\"24px\">\n",
              "    <path d=\"M0 0h24v24H0V0z\" fill=\"none\"/>\n",
              "    <path d=\"M18.56 5.44l.94 2.06.94-2.06 2.06-.94-2.06-.94-.94-2.06-.94 2.06-2.06.94zm-11 1L8.5 8.5l.94-2.06 2.06-.94-2.06-.94L8.5 2.5l-.94 2.06-2.06.94zm10 10l.94 2.06.94-2.06 2.06-.94-2.06-.94-.94-2.06-.94 2.06-2.06.94z\"/><path d=\"M17.41 7.96l-1.37-1.37c-.4-.4-.92-.59-1.43-.59-.52 0-1.04.2-1.43.59L10.3 9.45l-7.72 7.72c-.78.78-.78 2.05 0 2.83L4 21.41c.39.39.9.59 1.41.59.51 0 1.02-.2 1.41-.59l7.78-7.78 2.81-2.81c.8-.78.8-2.07 0-2.86zM5.41 20L4 18.59l7.72-7.72 1.47 1.35L5.41 20z\"/>\n",
              "  </svg>\n",
              "      </button>\n",
              "      \n",
              "  <style>\n",
              "    .colab-df-container {\n",
              "      display:flex;\n",
              "      flex-wrap:wrap;\n",
              "      gap: 12px;\n",
              "    }\n",
              "\n",
              "    .colab-df-convert {\n",
              "      background-color: #E8F0FE;\n",
              "      border: none;\n",
              "      border-radius: 50%;\n",
              "      cursor: pointer;\n",
              "      display: none;\n",
              "      fill: #1967D2;\n",
              "      height: 32px;\n",
              "      padding: 0 0 0 0;\n",
              "      width: 32px;\n",
              "    }\n",
              "\n",
              "    .colab-df-convert:hover {\n",
              "      background-color: #E2EBFA;\n",
              "      box-shadow: 0px 1px 2px rgba(60, 64, 67, 0.3), 0px 1px 3px 1px rgba(60, 64, 67, 0.15);\n",
              "      fill: #174EA6;\n",
              "    }\n",
              "\n",
              "    [theme=dark] .colab-df-convert {\n",
              "      background-color: #3B4455;\n",
              "      fill: #D2E3FC;\n",
              "    }\n",
              "\n",
              "    [theme=dark] .colab-df-convert:hover {\n",
              "      background-color: #434B5C;\n",
              "      box-shadow: 0px 1px 3px 1px rgba(0, 0, 0, 0.15);\n",
              "      filter: drop-shadow(0px 1px 2px rgba(0, 0, 0, 0.3));\n",
              "      fill: #FFFFFF;\n",
              "    }\n",
              "  </style>\n",
              "\n",
              "      <script>\n",
              "        const buttonEl =\n",
              "          document.querySelector('#df-7ddea25f-ccdf-4dc1-835f-0a23ac4d7216 button.colab-df-convert');\n",
              "        buttonEl.style.display =\n",
              "          google.colab.kernel.accessAllowed ? 'block' : 'none';\n",
              "\n",
              "        async function convertToInteractive(key) {\n",
              "          const element = document.querySelector('#df-7ddea25f-ccdf-4dc1-835f-0a23ac4d7216');\n",
              "          const dataTable =\n",
              "            await google.colab.kernel.invokeFunction('convertToInteractive',\n",
              "                                                     [key], {});\n",
              "          if (!dataTable) return;\n",
              "\n",
              "          const docLinkHtml = 'Like what you see? Visit the ' +\n",
              "            '<a target=\"_blank\" href=https://colab.research.google.com/notebooks/data_table.ipynb>data table notebook</a>'\n",
              "            + ' to learn more about interactive tables.';\n",
              "          element.innerHTML = '';\n",
              "          dataTable['output_type'] = 'display_data';\n",
              "          await google.colab.output.renderOutput(dataTable, element);\n",
              "          const docLink = document.createElement('div');\n",
              "          docLink.innerHTML = docLinkHtml;\n",
              "          element.appendChild(docLink);\n",
              "        }\n",
              "      </script>\n",
              "    </div>\n",
              "  </div>\n",
              "  "
            ]
          },
          "metadata": {},
          "execution_count": 6
        }
      ]
    },
    {
      "cell_type": "code",
      "source": [
        "# Unstack the data to create a pivot table with Team as index and Season as columns\n",
        "pivot_data = data.pivot(index='Team', columns='Season', values='Scores')\n"
      ],
      "metadata": {
        "id": "RjHE8vh7T4uY"
      },
      "execution_count": null,
      "outputs": []
    },
    {
      "cell_type": "code",
      "source": [
        "# Use Sparklines to show how scoring for each team has changed over these 10 seasons\n",
        "plt.figure(figsize=(5,15))\n",
        "for i, team in enumerate(pivot_data.index):\n",
        "    plt.subplot(len(pivot_data), 1, i+1)\n",
        "    plt.title(team)\n",
        "    plt.plot(pivot_data.loc[team])\n",
        "    plt.xticks(pivot_data.columns)\n",
        "    plt.ylim(pivot_data.min().min(), pivot_data.max().max())\n",
        "plt.show()"
      ],
      "metadata": {
        "id": "oMEPdpOKT4q-",
        "colab": {
          "base_uri": "https://localhost:8080/",
          "height": 879
        },
        "outputId": "d2f2b298-420a-43f0-a993-1c2286e21ae3"
      },
      "execution_count": null,
      "outputs": [
        {
          "output_type": "display_data",
          "data": {
            "text/plain": [
              "<Figure size 360x1080 with 32 Axes>"
            ],
            "image/png": "[encoded data removed]"
          },
          "metadata": {
            "needs_background": "light"
          }
        }
      ]
    },
    {
      "cell_type": "markdown",
      "source": [
        "**Umbrella Sales.** \n",
        "\n",
        "The file Umbrella contains data on the quarterly sales revenue for a manufacturer of umbrellas and other weather-resistant gear. \n",
        "\n",
        "a) Create a line chart for the sales time series data. Add a four-period moving average to the chart to smooth the data. \n",
        "\n"
      ],
      "metadata": {
        "id": "OUwWFKFoZuRo"
      }
    },
    {
      "cell_type": "code",
      "source": [
        "# Load data\n",
        "data2 = pd.read_excel(\"/content/drive/MyDrive/Copy of Umbrella.xlsx\")\n",
        "data2"
      ],
      "metadata": {
        "id": "ER8AZMKqZt5b",
        "colab": {
          "base_uri": "https://localhost:8080/",
          "height": 677
        },
        "outputId": "b61c3e54-a4bc-4142-aff5-c85df6141c98"
      },
      "execution_count": null,
      "outputs": [
        {
          "output_type": "execute_result",
          "data": {
            "text/plain": [
              "    Year Quarter  Sales (Thousands $)\n",
              "0      1       I                  125\n",
              "1      1      II                  153\n",
              "2      1     III                  106\n",
              "3      1      IV                   88\n",
              "4      2       I                  118\n",
              "5      2      II                  161\n",
              "6      2     III                  133\n",
              "7      2      IV                  102\n",
              "8      3       I                  138\n",
              "9      3      II                  144\n",
              "10     3     III                  113\n",
              "11     3      IV                   80\n",
              "12     4       I                  109\n",
              "13     4      II                  137\n",
              "14     4     III                  125\n",
              "15     4      IV                  109\n",
              "16     5       I                  130\n",
              "17     5      II                  165\n",
              "18     5     III                  128\n",
              "19     5      IV                   96"
            ],
            "text/html": [
              "\n",
              "  <div id=\"df-a0cb13a3-245f-438a-8254-090bde8ab756\">\n",
              "    <div class=\"colab-df-container\">\n",
              "      <div>\n",
              "<style scoped>\n",
              "    .dataframe tbody tr th:only-of-type {\n",
              "        vertical-align: middle;\n",
              "    }\n",
              "\n",
              "    .dataframe tbody tr th {\n",
              "        vertical-align: top;\n",
              "    }\n",
              "\n",
              "    .dataframe thead th {\n",
              "        text-align: right;\n",
              "    }\n",
              "</style>\n",
              "<table border=\"1\" class=\"dataframe\">\n",
              "  <thead>\n",
              "    <tr style=\"text-align: right;\">\n",
              "      <th></th>\n",
              "      <th>Year</th>\n",
              "      <th>Quarter</th>\n",
              "      <th>Sales (Thousands $)</th>\n",
              "    </tr>\n",
              "  </thead>\n",
              "  <tbody>\n",
              "    <tr>\n",
              "      <th>0</th>\n",
              "      <td>1</td>\n",
              "      <td>I</td>\n",
              "      <td>125</td>\n",
              "    </tr>\n",
              "    <tr>\n",
              "      <th>1</th>\n",
              "      <td>1</td>\n",
              "      <td>II</td>\n",
              "      <td>153</td>\n",
              "    </tr>\n",
              "    <tr>\n",
              "      <th>2</th>\n",
              "      <td>1</td>\n",
              "      <td>III</td>\n",
              "      <td>106</td>\n",
              "    </tr>\n",
              "    <tr>\n",
              "      <th>3</th>\n",
              "      <td>1</td>\n",
              "      <td>IV</td>\n",
              "      <td>88</td>\n",
              "    </tr>\n",
              "    <tr>\n",
              "      <th>4</th>\n",
              "      <td>2</td>\n",
              "      <td>I</td>\n",
              "      <td>118</td>\n",
              "    </tr>\n",
              "    <tr>\n",
              "      <th>5</th>\n",
              "      <td>2</td>\n",
              "      <td>II</td>\n",
              "      <td>161</td>\n",
              "    </tr>\n",
              "    <tr>\n",
              "      <th>6</th>\n",
              "      <td>2</td>\n",
              "      <td>III</td>\n",
              "      <td>133</td>\n",
              "    </tr>\n",
              "    <tr>\n",
              "      <th>7</th>\n",
              "      <td>2</td>\n",
              "      <td>IV</td>\n",
              "      <td>102</td>\n",
              "    </tr>\n",
              "    <tr>\n",
              "      <th>8</th>\n",
              "      <td>3</td>\n",
              "      <td>I</td>\n",
              "      <td>138</td>\n",
              "    </tr>\n",
              "    <tr>\n",
              "      <th>9</th>\n",
              "      <td>3</td>\n",
              "      <td>II</td>\n",
              "      <td>144</td>\n",
              "    </tr>\n",
              "    <tr>\n",
              "      <th>10</th>\n",
              "      <td>3</td>\n",
              "      <td>III</td>\n",
              "      <td>113</td>\n",
              "    </tr>\n",
              "    <tr>\n",
              "      <th>11</th>\n",
              "      <td>3</td>\n",
              "      <td>IV</td>\n",
              "      <td>80</td>\n",
              "    </tr>\n",
              "    <tr>\n",
              "      <th>12</th>\n",
              "      <td>4</td>\n",
              "      <td>I</td>\n",
              "      <td>109</td>\n",
              "    </tr>\n",
              "    <tr>\n",
              "      <th>13</th>\n",
              "      <td>4</td>\n",
              "      <td>II</td>\n",
              "      <td>137</td>\n",
              "    </tr>\n",
              "    <tr>\n",
              "      <th>14</th>\n",
              "      <td>4</td>\n",
              "      <td>III</td>\n",
              "      <td>125</td>\n",
              "    </tr>\n",
              "    <tr>\n",
              "      <th>15</th>\n",
              "      <td>4</td>\n",
              "      <td>IV</td>\n",
              "      <td>109</td>\n",
              "    </tr>\n",
              "    <tr>\n",
              "      <th>16</th>\n",
              "      <td>5</td>\n",
              "      <td>I</td>\n",
              "      <td>130</td>\n",
              "    </tr>\n",
              "    <tr>\n",
              "      <th>17</th>\n",
              "      <td>5</td>\n",
              "      <td>II</td>\n",
              "      <td>165</td>\n",
              "    </tr>\n",
              "    <tr>\n",
              "      <th>18</th>\n",
              "      <td>5</td>\n",
              "      <td>III</td>\n",
              "      <td>128</td>\n",
              "    </tr>\n",
              "    <tr>\n",
              "      <th>19</th>\n",
              "      <td>5</td>\n",
              "      <td>IV</td>\n",
              "      <td>96</td>\n",
              "    </tr>\n",
              "  </tbody>\n",
              "</table>\n",
              "</div>\n",
              "      <button class=\"colab-df-convert\" onclick=\"convertToInteractive('df-a0cb13a3-245f-438a-8254-090bde8ab756')\"\n",
              "              title=\"Convert this dataframe to an interactive table.\"\n",
              "              style=\"display:none;\">\n",
              "        \n",
              "  <svg xmlns=\"http://www.w3.org/2000/svg\" height=\"24px\"viewBox=\"0 0 24 24\"\n",
              "       width=\"24px\">\n",
              "    <path d=\"M0 0h24v24H0V0z\" fill=\"none\"/>\n",
              "    <path d=\"M18.56 5.44l.94 2.06.94-2.06 2.06-.94-2.06-.94-.94-2.06-.94 2.06-2.06.94zm-11 1L8.5 8.5l.94-2.06 2.06-.94-2.06-.94L8.5 2.5l-.94 2.06-2.06.94zm10 10l.94 2.06.94-2.06 2.06-.94-2.06-.94-.94-2.06-.94 2.06-2.06.94z\"/><path d=\"M17.41 7.96l-1.37-1.37c-.4-.4-.92-.59-1.43-.59-.52 0-1.04.2-1.43.59L10.3 9.45l-7.72 7.72c-.78.78-.78 2.05 0 2.83L4 21.41c.39.39.9.59 1.41.59.51 0 1.02-.2 1.41-.59l7.78-7.78 2.81-2.81c.8-.78.8-2.07 0-2.86zM5.41 20L4 18.59l7.72-7.72 1.47 1.35L5.41 20z\"/>\n",
              "  </svg>\n",
              "      </button>\n",
              "      \n",
              "  <style>\n",
              "    .colab-df-container {\n",
              "      display:flex;\n",
              "      flex-wrap:wrap;\n",
              "      gap: 12px;\n",
              "    }\n",
              "\n",
              "    .colab-df-convert {\n",
              "      background-color: #E8F0FE;\n",
              "      border: none;\n",
              "      border-radius: 50%;\n",
              "      cursor: pointer;\n",
              "      display: none;\n",
              "      fill: #1967D2;\n",
              "      height: 32px;\n",
              "      padding: 0 0 0 0;\n",
              "      width: 32px;\n",
              "    }\n",
              "\n",
              "    .colab-df-convert:hover {\n",
              "      background-color: #E2EBFA;\n",
              "      box-shadow: 0px 1px 2px rgba(60, 64, 67, 0.3), 0px 1px 3px 1px rgba(60, 64, 67, 0.15);\n",
              "      fill: #174EA6;\n",
              "    }\n",
              "\n",
              "    [theme=dark] .colab-df-convert {\n",
              "      background-color: #3B4455;\n",
              "      fill: #D2E3FC;\n",
              "    }\n",
              "\n",
              "    [theme=dark] .colab-df-convert:hover {\n",
              "      background-color: #434B5C;\n",
              "      box-shadow: 0px 1px 3px 1px rgba(0, 0, 0, 0.15);\n",
              "      filter: drop-shadow(0px 1px 2px rgba(0, 0, 0, 0.3));\n",
              "      fill: #FFFFFF;\n",
              "    }\n",
              "  </style>\n",
              "\n",
              "      <script>\n",
              "        const buttonEl =\n",
              "          document.querySelector('#df-a0cb13a3-245f-438a-8254-090bde8ab756 button.colab-df-convert');\n",
              "        buttonEl.style.display =\n",
              "          google.colab.kernel.accessAllowed ? 'block' : 'none';\n",
              "\n",
              "        async function convertToInteractive(key) {\n",
              "          const element = document.querySelector('#df-a0cb13a3-245f-438a-8254-090bde8ab756');\n",
              "          const dataTable =\n",
              "            await google.colab.kernel.invokeFunction('convertToInteractive',\n",
              "                                                     [key], {});\n",
              "          if (!dataTable) return;\n",
              "\n",
              "          const docLinkHtml = 'Like what you see? Visit the ' +\n",
              "            '<a target=\"_blank\" href=https://colab.research.google.com/notebooks/data_table.ipynb>data table notebook</a>'\n",
              "            + ' to learn more about interactive tables.';\n",
              "          element.innerHTML = '';\n",
              "          dataTable['output_type'] = 'display_data';\n",
              "          await google.colab.output.renderOutput(dataTable, element);\n",
              "          const docLink = document.createElement('div');\n",
              "          docLink.innerHTML = docLinkHtml;\n",
              "          element.appendChild(docLink);\n",
              "        }\n",
              "      </script>\n",
              "    </div>\n",
              "  </div>\n",
              "  "
            ]
          },
          "metadata": {},
          "execution_count": 9
        }
      ]
    },
    {
      "cell_type": "code",
      "source": [
        "data2.columns"
      ],
      "metadata": {
        "id": "bYnK-v6pbhgf",
        "colab": {
          "base_uri": "https://localhost:8080/"
        },
        "outputId": "1b00e645-02dd-46da-8eeb-f24704de325b"
      },
      "execution_count": null,
      "outputs": [
        {
          "output_type": "execute_result",
          "data": {
            "text/plain": [
              "Index(['Year', 'Quarter', 'Sales (Thousands $)'], dtype='object')"
            ]
          },
          "metadata": {},
          "execution_count": 10
        }
      ]
    },
    {
      "cell_type": "code",
      "source": [
        "# Create a line chart for the sales time series data\n",
        "plt.plot(data2['Year'].astype(str) + '-' + data2['Quarter'], data2['Sales (Thousands $)'], label='Sales (Thousands $)')\n",
        "\n",
        "# Add a four-period moving average to the chart to smooth the data\n",
        "rolling_avg = data2['Sales (Thousands $)'].rolling(window=4).mean()\n",
        "plt.plot(data2['Year'].astype(str) + '-' + data2['Quarter'], rolling_avg, label='4-Period Moving Average')\n",
        "\n",
        "# Add a title and axis labels\n",
        "plt.title('Sales Time Series')\n",
        "plt.xlabel('Year-Quarter')\n",
        "plt.ylabel('Sales (Thousands $)')\n",
        "\n",
        "# Add a legend\n",
        "plt.legend()\n",
        "\n",
        "# Show the chart\n",
        "plt.show()\n"
      ],
      "metadata": {
        "id": "e96LwbUJT4k-",
        "colab": {
          "base_uri": "https://localhost:8080/",
          "height": 295
        },
        "outputId": "5c383845-a5b1-4948-c291-d1b2680746b9"
      },
      "execution_count": null,
      "outputs": [
        {
          "output_type": "display_data",
          "data": {
            "text/plain": [
              "<Figure size 432x288 with 1 Axes>"
            ],
            "image/png": "[encoded data removed]"
          },
          "metadata": {
            "needs_background": "light"
          }
        }
      ]
    },
    {
      "cell_type": "markdown",
      "source": [
        "b) To investigate the possibility of seasonality on a quarterly basis, plot the data as a collection of five data series (one for each year). From this visualization, do you observe any indication of seasonality? If so, describe it.\n",
        "\n"
      ],
      "metadata": {
        "id": "UYWvVQbqfFos"
      }
    },
    {
      "cell_type": "code",
      "source": [
        "\n",
        "# Create a plot of the sales data for each year\n",
        "years = data2['Year'].unique()\n",
        "for year in years:\n",
        "    year_df = data2[data2['Year'] == year]\n",
        "    plt.plot(year_df['Quarter'], year_df['Sales (Thousands $)'], label=f'Year {year}')\n",
        "\n",
        "# Add a title and axis labels\n",
        "plt.title('Sales by Year and Quarter')\n",
        "\n",
        "plt.xlabel('Quarter')\n",
        "plt.ylabel('Sales (Thousands $)')\n",
        "\n",
        "# Add a legend\n",
        "plt.legend()\n",
        "\n",
        "# Show the chart\n",
        "plt.show()\n"
      ],
      "metadata": {
        "id": "RB42G39JT4gh",
        "colab": {
          "base_uri": "https://localhost:8080/",
          "height": 295
        },
        "outputId": "4003f068-f1ac-4a77-90d8-b4b96fefd303"
      },
      "execution_count": null,
      "outputs": [
        {
          "output_type": "display_data",
          "data": {
            "text/plain": [
              "<Figure size 432x288 with 1 Axes>"
            ],
            "image/png": "[encoded data removed]"
          },
          "metadata": {
            "needs_background": "light"
          }
        }
      ]
    },
    {
      "cell_type": "markdown",
      "source": [
        "This code will create a plot of the sales data for each year, with each year's data shown in a different color. The x-axis shows the quarter (I, II, III, or IV), and the y-axis shows the sales in thousands of dollars.\n",
        "\n",
        "By looking at this plot, you may be able to observe any indication of seasonality. If there is seasonality, you would expect to see a pattern in the data that repeats itself every year. For example, if the data shows a spike in sales in the first quarter of every year, this could be an indication of seasonality.\n",
        "\n",
        "In this case, it is difficult to say definitively whether there is seasonality in the data from just looking at the plot. However, it is possible that there is some seasonality, as there seems to be a slight dip in sales in the second quarter of each year, followed by an increase in the third quarter, and then a decrease in the fourth quarter. However, this pattern is not very clear and there may be other factors affecting the sales data as well. Further analysis and modeling would be needed to determine whether there is seasonality in the data."
      ],
      "metadata": {
        "id": "3IRAuS33wKwb"
      }
    },
    {
      "cell_type": "markdown",
      "source": [
        "**Market Capitalization and Profit By Sector.** \n",
        "\n",
        "The file Fortune500Sector contains data on the profits, market capitalizations, and industry sector for a recent sample of firms in the Fortune 500. \n",
        "\n",
        "a) Differentiating observations by using a different color for each industry sector, prepare a scatter chart to show the relationship between the variables Market Capitalization and Profit in which Market Capitalization is on the vertical axis and Profit is on the horizontal axis.  \n",
        "\n"
      ],
      "metadata": {
        "id": "27EqbpFgjYGi"
      }
    },
    {
      "cell_type": "code",
      "source": [
        "# Load data\n",
        "fortune = pd.read_excel('/content/drive/MyDrive/Copy of Fortune500Sector.xlsx')\n",
        "fortune.head()"
      ],
      "metadata": {
        "id": "lbUk0Z3UjKiP",
        "colab": {
          "base_uri": "https://localhost:8080/",
          "height": 206
        },
        "outputId": "c1e4ad39-b0c7-40da-8f54-492fa01bd839"
      },
      "execution_count": null,
      "outputs": [
        {
          "output_type": "execute_result",
          "data": {
            "text/plain": [
              "               Company       Sector  Profits ($ millions)  \\\n",
              "0  Alliant Techsystems  Industrials                 313.2   \n",
              "1           Amazon.com     Consumer                 631.0   \n",
              "2    AmerisourceBergen   Healthcare                 706.6   \n",
              "3    Avis Budget Group  Industrials                 -29.0   \n",
              "4               Boeing  Industrials                4018.0   \n",
              "\n",
              "   Market Capitalization ($ millions)  \n",
              "0                              1891.9  \n",
              "1                             81458.6  \n",
              "2                             10087.6  \n",
              "3                              1175.8  \n",
              "4                             55188.8  "
            ],
            "text/html": [
              "\n",
              "  <div id=\"df-a7be144f-c887-4cea-9eb6-01e2d51b0f85\">\n",
              "    <div class=\"colab-df-container\">\n",
              "      <div>\n",
              "<style scoped>\n",
              "    .dataframe tbody tr th:only-of-type {\n",
              "        vertical-align: middle;\n",
              "    }\n",
              "\n",
              "    .dataframe tbody tr th {\n",
              "        vertical-align: top;\n",
              "    }\n",
              "\n",
              "    .dataframe thead th {\n",
              "        text-align: right;\n",
              "    }\n",
              "</style>\n",
              "<table border=\"1\" class=\"dataframe\">\n",
              "  <thead>\n",
              "    <tr style=\"text-align: right;\">\n",
              "      <th></th>\n",
              "      <th>Company</th>\n",
              "      <th>Sector</th>\n",
              "      <th>Profits ($ millions)</th>\n",
              "      <th>Market Capitalization ($ millions)</th>\n",
              "    </tr>\n",
              "  </thead>\n",
              "  <tbody>\n",
              "    <tr>\n",
              "      <th>0</th>\n",
              "      <td>Alliant Techsystems</td>\n",
              "      <td>Industrials</td>\n",
              "      <td>313.2</td>\n",
              "      <td>1891.9</td>\n",
              "    </tr>\n",
              "    <tr>\n",
              "      <th>1</th>\n",
              "      <td>Amazon.com</td>\n",
              "      <td>Consumer</td>\n",
              "      <td>631.0</td>\n",
              "      <td>81458.6</td>\n",
              "    </tr>\n",
              "    <tr>\n",
              "      <th>2</th>\n",
              "      <td>AmerisourceBergen</td>\n",
              "      <td>Healthcare</td>\n",
              "      <td>706.6</td>\n",
              "      <td>10087.6</td>\n",
              "    </tr>\n",
              "    <tr>\n",
              "      <th>3</th>\n",
              "      <td>Avis Budget Group</td>\n",
              "      <td>Industrials</td>\n",
              "      <td>-29.0</td>\n",
              "      <td>1175.8</td>\n",
              "    </tr>\n",
              "    <tr>\n",
              "      <th>4</th>\n",
              "      <td>Boeing</td>\n",
              "      <td>Industrials</td>\n",
              "      <td>4018.0</td>\n",
              "      <td>55188.8</td>\n",
              "    </tr>\n",
              "  </tbody>\n",
              "</table>\n",
              "</div>\n",
              "      <button class=\"colab-df-convert\" onclick=\"convertToInteractive('df-a7be144f-c887-4cea-9eb6-01e2d51b0f85')\"\n",
              "              title=\"Convert this dataframe to an interactive table.\"\n",
              "              style=\"display:none;\">\n",
              "        \n",
              "  <svg xmlns=\"http://www.w3.org/2000/svg\" height=\"24px\"viewBox=\"0 0 24 24\"\n",
              "       width=\"24px\">\n",
              "    <path d=\"M0 0h24v24H0V0z\" fill=\"none\"/>\n",
              "    <path d=\"M18.56 5.44l.94 2.06.94-2.06 2.06-.94-2.06-.94-.94-2.06-.94 2.06-2.06.94zm-11 1L8.5 8.5l.94-2.06 2.06-.94-2.06-.94L8.5 2.5l-.94 2.06-2.06.94zm10 10l.94 2.06.94-2.06 2.06-.94-2.06-.94-.94-2.06-.94 2.06-2.06.94z\"/><path d=\"M17.41 7.96l-1.37-1.37c-.4-.4-.92-.59-1.43-.59-.52 0-1.04.2-1.43.59L10.3 9.45l-7.72 7.72c-.78.78-.78 2.05 0 2.83L4 21.41c.39.39.9.59 1.41.59.51 0 1.02-.2 1.41-.59l7.78-7.78 2.81-2.81c.8-.78.8-2.07 0-2.86zM5.41 20L4 18.59l7.72-7.72 1.47 1.35L5.41 20z\"/>\n",
              "  </svg>\n",
              "      </button>\n",
              "      \n",
              "  <style>\n",
              "    .colab-df-container {\n",
              "      display:flex;\n",
              "      flex-wrap:wrap;\n",
              "      gap: 12px;\n",
              "    }\n",
              "\n",
              "    .colab-df-convert {\n",
              "      background-color: #E8F0FE;\n",
              "      border: none;\n",
              "      border-radius: 50%;\n",
              "      cursor: pointer;\n",
              "      display: none;\n",
              "      fill: #1967D2;\n",
              "      height: 32px;\n",
              "      padding: 0 0 0 0;\n",
              "      width: 32px;\n",
              "    }\n",
              "\n",
              "    .colab-df-convert:hover {\n",
              "      background-color: #E2EBFA;\n",
              "      box-shadow: 0px 1px 2px rgba(60, 64, 67, 0.3), 0px 1px 3px 1px rgba(60, 64, 67, 0.15);\n",
              "      fill: #174EA6;\n",
              "    }\n",
              "\n",
              "    [theme=dark] .colab-df-convert {\n",
              "      background-color: #3B4455;\n",
              "      fill: #D2E3FC;\n",
              "    }\n",
              "\n",
              "    [theme=dark] .colab-df-convert:hover {\n",
              "      background-color: #434B5C;\n",
              "      box-shadow: 0px 1px 3px 1px rgba(0, 0, 0, 0.15);\n",
              "      filter: drop-shadow(0px 1px 2px rgba(0, 0, 0, 0.3));\n",
              "      fill: #FFFFFF;\n",
              "    }\n",
              "  </style>\n",
              "\n",
              "      <script>\n",
              "        const buttonEl =\n",
              "          document.querySelector('#df-a7be144f-c887-4cea-9eb6-01e2d51b0f85 button.colab-df-convert');\n",
              "        buttonEl.style.display =\n",
              "          google.colab.kernel.accessAllowed ? 'block' : 'none';\n",
              "\n",
              "        async function convertToInteractive(key) {\n",
              "          const element = document.querySelector('#df-a7be144f-c887-4cea-9eb6-01e2d51b0f85');\n",
              "          const dataTable =\n",
              "            await google.colab.kernel.invokeFunction('convertToInteractive',\n",
              "                                                     [key], {});\n",
              "          if (!dataTable) return;\n",
              "\n",
              "          const docLinkHtml = 'Like what you see? Visit the ' +\n",
              "            '<a target=\"_blank\" href=https://colab.research.google.com/notebooks/data_table.ipynb>data table notebook</a>'\n",
              "            + ' to learn more about interactive tables.';\n",
              "          element.innerHTML = '';\n",
              "          dataTable['output_type'] = 'display_data';\n",
              "          await google.colab.output.renderOutput(dataTable, element);\n",
              "          const docLink = document.createElement('div');\n",
              "          docLink.innerHTML = docLinkHtml;\n",
              "          element.appendChild(docLink);\n",
              "        }\n",
              "      </script>\n",
              "    </div>\n",
              "  </div>\n",
              "  "
            ]
          },
          "metadata": {},
          "execution_count": 13
        }
      ]
    },
    {
      "cell_type": "code",
      "source": [
        "fortune['Sector'].unique"
      ],
      "metadata": {
        "id": "jznf4E-Oo1Zb",
        "colab": {
          "base_uri": "https://localhost:8080/"
        },
        "outputId": "d24f0689-33b4-402e-a461-d7311325d588"
      },
      "execution_count": null,
      "outputs": [
        {
          "output_type": "execute_result",
          "data": {
            "text/plain": [
              "<bound method Series.unique of 0     Industrials\n",
              "1        Consumer\n",
              "2      Healthcare\n",
              "3     Industrials\n",
              "4     Industrials\n",
              "5      Healthcare\n",
              "6      Technology\n",
              "7        Consumer\n",
              "8          Energy\n",
              "9        Consumer\n",
              "10     Healthcare\n",
              "11    Industrials\n",
              "12      Financial\n",
              "13    Industrials\n",
              "14       Consumer\n",
              "15       Consumer\n",
              "16       Consumer\n",
              "17     Healthcare\n",
              "18       Consumer\n",
              "19       Consumer\n",
              "20    Industrials\n",
              "21     Healthcare\n",
              "22    Industrials\n",
              "23    Industrials\n",
              "24       Consumer\n",
              "25       Consumer\n",
              "26    Industrials\n",
              "27    Industrials\n",
              "28    Industrials\n",
              "29    Industrials\n",
              "30     Healthcare\n",
              "Name: Sector, dtype: object>"
            ]
          },
          "metadata": {},
          "execution_count": 14
        }
      ]
    },
    {
      "cell_type": "code",
      "source": [
        "# Create a dictionary mapping each sector to a unique color\n",
        "sector_colors = {\n",
        "    'Industrials': 'red',\n",
        "    'Consumer': 'blue',\n",
        "    'Healthcare': 'green',\n",
        "    'Financial':'pink',\n",
        "    'Energy':'yellow'\n",
        "}\n",
        "\n",
        "# Create a scatter plot of market capitalization vs. profits, with different colors for each sector\n",
        "for sector in sector_colors:\n",
        "    sector_df = fortune[fortune['Sector'] == sector]\n",
        "    plt.scatter(sector_df['Profits ($ millions)'], sector_df['Market Capitalization ($ millions)'],\n",
        "                color=sector_colors[sector], label=sector)\n",
        "\n",
        "# Add axis labels and a title\n",
        "plt.xlabel('Profits ($ millions)')\n",
        "plt.ylabel('Market Capitalization ($ millions)')\n",
        "plt.title('Market Capitalization vs. Profits by Industry Sector')\n",
        "\n",
        "# Add a legend\n",
        "plt.legend()\n",
        "\n",
        "# Show the chart\n",
        "plt.show()"
      ],
      "metadata": {
        "id": "b_s6aD9FjKeP",
        "colab": {
          "base_uri": "https://localhost:8080/",
          "height": 295
        },
        "outputId": "83642379-46e1-4ade-d866-64711e9ec545"
      },
      "execution_count": null,
      "outputs": [
        {
          "output_type": "display_data",
          "data": {
            "text/plain": [
              "<Figure size 432x288 with 1 Axes>"
            ],
            "image/png": "[encoded data removed]"
          },
          "metadata": {
            "needs_background": "light"
          }
        }
      ]
    },
    {
      "cell_type": "markdown",
      "source": [
        "This code will create a scatter plot of the relationship between market capitalization and profits, with market capitalization on the vertical axis and profits on the horizontal axis. Each observation is differentiated by using a different color for each industry sector. The legend shows which color corresponds to which industry sector.\n",
        "\n",
        "By looking at this plot, you can see how market capitalization and profits are related for each industry sector. For example, you can see that the industrials sector has the highest market capitalization and profits, while the healthcare sector has lower market capitalization and profits. You can also see that Amazon.com, in the consumer sector, has a much higher market capitalization than any other company in the plot, despite having profits that are not the highest."
      ],
      "metadata": {
        "id": "f4eG4Eh_wA2g"
      }
    },
    {
      "cell_type": "markdown",
      "source": [
        "b) \n",
        " Emphasize the relationship between Market Capitalization and Profit within the healthcare sector by formatting all other sectors with data points in gray with no fill. Create a trendline based only on the observations in the healthcare sector. What does the trendline indicate about this relationship between Market Capitalization and Profit within the healthcare sector? \n"
      ],
      "metadata": {
        "id": "S7Z0MEK-u13r"
      }
    },
    {
      "cell_type": "markdown",
      "source": [
        "# Construct the relative frequency distribution of records over the values of the Category variable. Describe your findings. "
      ],
      "metadata": {
        "id": "BTgjQBGrloWq"
      }
    },
    {
      "cell_type": "code",
      "source": [
        "ejb = pd.read_excel('/content/drive/MyDrive/Copy of EJB.xlsx')\n",
        "ejb.head()"
      ],
      "metadata": {
        "id": "PpxY68zGjKYV",
        "outputId": "717dd92e-de64-4ab7-dac6-bf2ca5889d9f",
        "colab": {
          "base_uri": "https://localhost:8080/",
          "height": 206
        }
      },
      "execution_count": null,
      "outputs": [
        {
          "output_type": "execute_result",
          "data": {
            "text/plain": [
              "  Order ID    Flavor Category  $ Sales Date Ordered Date Delivered  \\\n",
              "0    92145      Beet   Juices   605.97   2018-01-01     2018-01-03   \n",
              "1    92145     Apple   Juices  1549.00   2018-01-01     2018-01-03   \n",
              "2    92145     Apple   Juices  1986.28   2018-01-01     2018-01-03   \n",
              "3    92145    Orange   Juices    16.43   2018-01-01     2018-01-03   \n",
              "4    92145  Cucumber   Juices  1594.93   2018-01-01     2018-01-03   \n",
              "\n",
              "  Distribution Center New Customer?  Service Satisfaction Rating  \\\n",
              "0                  ID           Yes                          3.0   \n",
              "1                  ID           Yes                          5.0   \n",
              "2                  ID           Yes                          5.0   \n",
              "3                  ID           Yes                          5.0   \n",
              "4                  ID           Yes                          NaN   \n",
              "\n",
              "   Product Satisfaction Rating  \n",
              "0                          NaN  \n",
              "1                          4.0  \n",
              "2                          4.0  \n",
              "3                          3.0  \n",
              "4                          NaN  "
            ],
            "text/html": [
              "\n",
              "  <div id=\"df-e1743f9a-bb6a-4d5b-9652-39de772e77b5\">\n",
              "    <div class=\"colab-df-container\">\n",
              "      <div>\n",
              "<style scoped>\n",
              "    .dataframe tbody tr th:only-of-type {\n",
              "        vertical-align: middle;\n",
              "    }\n",
              "\n",
              "    .dataframe tbody tr th {\n",
              "        vertical-align: top;\n",
              "    }\n",
              "\n",
              "    .dataframe thead th {\n",
              "        text-align: right;\n",
              "    }\n",
              "</style>\n",
              "<table border=\"1\" class=\"dataframe\">\n",
              "  <thead>\n",
              "    <tr style=\"text-align: right;\">\n",
              "      <th></th>\n",
              "      <th>Order ID</th>\n",
              "      <th>Flavor</th>\n",
              "      <th>Category</th>\n",
              "      <th>$ Sales</th>\n",
              "      <th>Date Ordered</th>\n",
              "      <th>Date Delivered</th>\n",
              "      <th>Distribution Center</th>\n",
              "      <th>New Customer?</th>\n",
              "      <th>Service Satisfaction Rating</th>\n",
              "      <th>Product Satisfaction Rating</th>\n",
              "    </tr>\n",
              "  </thead>\n",
              "  <tbody>\n",
              "    <tr>\n",
              "      <th>0</th>\n",
              "      <td>92145</td>\n",
              "      <td>Beet</td>\n",
              "      <td>Juices</td>\n",
              "      <td>605.97</td>\n",
              "      <td>2018-01-01</td>\n",
              "      <td>2018-01-03</td>\n",
              "      <td>ID</td>\n",
              "      <td>Yes</td>\n",
              "      <td>3.0</td>\n",
              "      <td>NaN</td>\n",
              "    </tr>\n",
              "    <tr>\n",
              "      <th>1</th>\n",
              "      <td>92145</td>\n",
              "      <td>Apple</td>\n",
              "      <td>Juices</td>\n",
              "      <td>1549.00</td>\n",
              "      <td>2018-01-01</td>\n",
              "      <td>2018-01-03</td>\n",
              "      <td>ID</td>\n",
              "      <td>Yes</td>\n",
              "      <td>5.0</td>\n",
              "      <td>4.0</td>\n",
              "    </tr>\n",
              "    <tr>\n",
              "      <th>2</th>\n",
              "      <td>92145</td>\n",
              "      <td>Apple</td>\n",
              "      <td>Juices</td>\n",
              "      <td>1986.28</td>\n",
              "      <td>2018-01-01</td>\n",
              "      <td>2018-01-03</td>\n",
              "      <td>ID</td>\n",
              "      <td>Yes</td>\n",
              "      <td>5.0</td>\n",
              "      <td>4.0</td>\n",
              "    </tr>\n",
              "    <tr>\n",
              "      <th>3</th>\n",
              "      <td>92145</td>\n",
              "      <td>Orange</td>\n",
              "      <td>Juices</td>\n",
              "      <td>16.43</td>\n",
              "      <td>2018-01-01</td>\n",
              "      <td>2018-01-03</td>\n",
              "      <td>ID</td>\n",
              "      <td>Yes</td>\n",
              "      <td>5.0</td>\n",
              "      <td>3.0</td>\n",
              "    </tr>\n",
              "    <tr>\n",
              "      <th>4</th>\n",
              "      <td>92145</td>\n",
              "      <td>Cucumber</td>\n",
              "      <td>Juices</td>\n",
              "      <td>1594.93</td>\n",
              "      <td>2018-01-01</td>\n",
              "      <td>2018-01-03</td>\n",
              "      <td>ID</td>\n",
              "      <td>Yes</td>\n",
              "      <td>NaN</td>\n",
              "      <td>NaN</td>\n",
              "    </tr>\n",
              "  </tbody>\n",
              "</table>\n",
              "</div>\n",
              "      <button class=\"colab-df-convert\" onclick=\"convertToInteractive('df-e1743f9a-bb6a-4d5b-9652-39de772e77b5')\"\n",
              "              title=\"Convert this dataframe to an interactive table.\"\n",
              "              style=\"display:none;\">\n",
              "        \n",
              "  <svg xmlns=\"http://www.w3.org/2000/svg\" height=\"24px\"viewBox=\"0 0 24 24\"\n",
              "       width=\"24px\">\n",
              "    <path d=\"M0 0h24v24H0V0z\" fill=\"none\"/>\n",
              "    <path d=\"M18.56 5.44l.94 2.06.94-2.06 2.06-.94-2.06-.94-.94-2.06-.94 2.06-2.06.94zm-11 1L8.5 8.5l.94-2.06 2.06-.94-2.06-.94L8.5 2.5l-.94 2.06-2.06.94zm10 10l.94 2.06.94-2.06 2.06-.94-2.06-.94-.94-2.06-.94 2.06-2.06.94z\"/><path d=\"M17.41 7.96l-1.37-1.37c-.4-.4-.92-.59-1.43-.59-.52 0-1.04.2-1.43.59L10.3 9.45l-7.72 7.72c-.78.78-.78 2.05 0 2.83L4 21.41c.39.39.9.59 1.41.59.51 0 1.02-.2 1.41-.59l7.78-7.78 2.81-2.81c.8-.78.8-2.07 0-2.86zM5.41 20L4 18.59l7.72-7.72 1.47 1.35L5.41 20z\"/>\n",
              "  </svg>\n",
              "      </button>\n",
              "      \n",
              "  <style>\n",
              "    .colab-df-container {\n",
              "      display:flex;\n",
              "      flex-wrap:wrap;\n",
              "      gap: 12px;\n",
              "    }\n",
              "\n",
              "    .colab-df-convert {\n",
              "      background-color: #E8F0FE;\n",
              "      border: none;\n",
              "      border-radius: 50%;\n",
              "      cursor: pointer;\n",
              "      display: none;\n",
              "      fill: #1967D2;\n",
              "      height: 32px;\n",
              "      padding: 0 0 0 0;\n",
              "      width: 32px;\n",
              "    }\n",
              "\n",
              "    .colab-df-convert:hover {\n",
              "      background-color: #E2EBFA;\n",
              "      box-shadow: 0px 1px 2px rgba(60, 64, 67, 0.3), 0px 1px 3px 1px rgba(60, 64, 67, 0.15);\n",
              "      fill: #174EA6;\n",
              "    }\n",
              "\n",
              "    [theme=dark] .colab-df-convert {\n",
              "      background-color: #3B4455;\n",
              "      fill: #D2E3FC;\n",
              "    }\n",
              "\n",
              "    [theme=dark] .colab-df-convert:hover {\n",
              "      background-color: #434B5C;\n",
              "      box-shadow: 0px 1px 3px 1px rgba(0, 0, 0, 0.15);\n",
              "      filter: drop-shadow(0px 1px 2px rgba(0, 0, 0, 0.3));\n",
              "      fill: #FFFFFF;\n",
              "    }\n",
              "  </style>\n",
              "\n",
              "      <script>\n",
              "        const buttonEl =\n",
              "          document.querySelector('#df-e1743f9a-bb6a-4d5b-9652-39de772e77b5 button.colab-df-convert');\n",
              "        buttonEl.style.display =\n",
              "          google.colab.kernel.accessAllowed ? 'block' : 'none';\n",
              "\n",
              "        async function convertToInteractive(key) {\n",
              "          const element = document.querySelector('#df-e1743f9a-bb6a-4d5b-9652-39de772e77b5');\n",
              "          const dataTable =\n",
              "            await google.colab.kernel.invokeFunction('convertToInteractive',\n",
              "                                                     [key], {});\n",
              "          if (!dataTable) return;\n",
              "\n",
              "          const docLinkHtml = 'Like what you see? Visit the ' +\n",
              "            '<a target=\"_blank\" href=https://colab.research.google.com/notebooks/data_table.ipynb>data table notebook</a>'\n",
              "            + ' to learn more about interactive tables.';\n",
              "          element.innerHTML = '';\n",
              "          dataTable['output_type'] = 'display_data';\n",
              "          await google.colab.output.renderOutput(dataTable, element);\n",
              "          const docLink = document.createElement('div');\n",
              "          docLink.innerHTML = docLinkHtml;\n",
              "          element.appendChild(docLink);\n",
              "        }\n",
              "      </script>\n",
              "    </div>\n",
              "  </div>\n",
              "  "
            ]
          },
          "metadata": {},
          "execution_count": 16
        }
      ]
    },
    {
      "cell_type": "code",
      "source": [
        "ejb.dropna(inplace=True)"
      ],
      "metadata": {
        "id": "ka9WpPJmcQga"
      },
      "execution_count": null,
      "outputs": []
    },
    {
      "cell_type": "code",
      "source": [
        "def rel_freq(x):\n",
        "    freqs = [(value, x.count(value) / len(x)) for value in set(x)] \n",
        "    return freqs"
      ],
      "metadata": {
        "id": "qy6e-A8NmkoO"
      },
      "execution_count": null,
      "outputs": []
    },
    {
      "cell_type": "code",
      "source": [
        "rel_freq(list(ejb['Category']))"
      ],
      "metadata": {
        "id": "vUCSromGmWDN",
        "outputId": "8b1361df-718d-4ed0-c5ff-55bc9555edf5",
        "colab": {
          "base_uri": "https://localhost:8080/"
        }
      },
      "execution_count": null,
      "outputs": [
        {
          "output_type": "execute_result",
          "data": {
            "text/plain": [
              "[('Smoothies', 0.4476205434270457), ('Juices', 0.5523794565729543)]"
            ]
          },
          "metadata": {},
          "execution_count": 19
        }
      ]
    },
    {
      "cell_type": "code",
      "source": [
        "ejb.describe()"
      ],
      "metadata": {
        "id": "OSbEwjt7hBAK",
        "outputId": "421a1adb-684b-4d87-c2ec-e05b83354bf0",
        "colab": {
          "base_uri": "https://localhost:8080/",
          "height": 300
        }
      },
      "execution_count": null,
      "outputs": [
        {
          "output_type": "execute_result",
          "data": {
            "text/plain": [
              "           $ Sales  Service Satisfaction Rating  Product Satisfaction Rating\n",
              "count  6367.000000                  6367.000000                  6367.000000\n",
              "mean    702.818285                     3.274698                     3.571384\n",
              "std     499.030126                     1.421225                     1.363504\n",
              "min       0.050000                     1.000000                     1.000000\n",
              "25%     280.995000                     2.000000                     2.000000\n",
              "50%     621.370000                     3.000000                     4.000000\n",
              "75%    1054.255000                     5.000000                     5.000000\n",
              "max    1998.880000                     5.000000                     5.000000"
            ],
            "text/html": [
              "\n",
              "  <div id=\"df-8aade826-ee4f-4526-87f8-255809147e99\">\n",
              "    <div class=\"colab-df-container\">\n",
              "      <div>\n",
              "<style scoped>\n",
              "    .dataframe tbody tr th:only-of-type {\n",
              "        vertical-align: middle;\n",
              "    }\n",
              "\n",
              "    .dataframe tbody tr th {\n",
              "        vertical-align: top;\n",
              "    }\n",
              "\n",
              "    .dataframe thead th {\n",
              "        text-align: right;\n",
              "    }\n",
              "</style>\n",
              "<table border=\"1\" class=\"dataframe\">\n",
              "  <thead>\n",
              "    <tr style=\"text-align: right;\">\n",
              "      <th></th>\n",
              "      <th>$ Sales</th>\n",
              "      <th>Service Satisfaction Rating</th>\n",
              "      <th>Product Satisfaction Rating</th>\n",
              "    </tr>\n",
              "  </thead>\n",
              "  <tbody>\n",
              "    <tr>\n",
              "      <th>count</th>\n",
              "      <td>6367.000000</td>\n",
              "      <td>6367.000000</td>\n",
              "      <td>6367.000000</td>\n",
              "    </tr>\n",
              "    <tr>\n",
              "      <th>mean</th>\n",
              "      <td>702.818285</td>\n",
              "      <td>3.274698</td>\n",
              "      <td>3.571384</td>\n",
              "    </tr>\n",
              "    <tr>\n",
              "      <th>std</th>\n",
              "      <td>499.030126</td>\n",
              "      <td>1.421225</td>\n",
              "      <td>1.363504</td>\n",
              "    </tr>\n",
              "    <tr>\n",
              "      <th>min</th>\n",
              "      <td>0.050000</td>\n",
              "      <td>1.000000</td>\n",
              "      <td>1.000000</td>\n",
              "    </tr>\n",
              "    <tr>\n",
              "      <th>25%</th>\n",
              "      <td>280.995000</td>\n",
              "      <td>2.000000</td>\n",
              "      <td>2.000000</td>\n",
              "    </tr>\n",
              "    <tr>\n",
              "      <th>50%</th>\n",
              "      <td>621.370000</td>\n",
              "      <td>3.000000</td>\n",
              "      <td>4.000000</td>\n",
              "    </tr>\n",
              "    <tr>\n",
              "      <th>75%</th>\n",
              "      <td>1054.255000</td>\n",
              "      <td>5.000000</td>\n",
              "      <td>5.000000</td>\n",
              "    </tr>\n",
              "    <tr>\n",
              "      <th>max</th>\n",
              "      <td>1998.880000</td>\n",
              "      <td>5.000000</td>\n",
              "      <td>5.000000</td>\n",
              "    </tr>\n",
              "  </tbody>\n",
              "</table>\n",
              "</div>\n",
              "      <button class=\"colab-df-convert\" onclick=\"convertToInteractive('df-8aade826-ee4f-4526-87f8-255809147e99')\"\n",
              "              title=\"Convert this dataframe to an interactive table.\"\n",
              "              style=\"display:none;\">\n",
              "        \n",
              "  <svg xmlns=\"http://www.w3.org/2000/svg\" height=\"24px\"viewBox=\"0 0 24 24\"\n",
              "       width=\"24px\">\n",
              "    <path d=\"M0 0h24v24H0V0z\" fill=\"none\"/>\n",
              "    <path d=\"M18.56 5.44l.94 2.06.94-2.06 2.06-.94-2.06-.94-.94-2.06-.94 2.06-2.06.94zm-11 1L8.5 8.5l.94-2.06 2.06-.94-2.06-.94L8.5 2.5l-.94 2.06-2.06.94zm10 10l.94 2.06.94-2.06 2.06-.94-2.06-.94-.94-2.06-.94 2.06-2.06.94z\"/><path d=\"M17.41 7.96l-1.37-1.37c-.4-.4-.92-.59-1.43-.59-.52 0-1.04.2-1.43.59L10.3 9.45l-7.72 7.72c-.78.78-.78 2.05 0 2.83L4 21.41c.39.39.9.59 1.41.59.51 0 1.02-.2 1.41-.59l7.78-7.78 2.81-2.81c.8-.78.8-2.07 0-2.86zM5.41 20L4 18.59l7.72-7.72 1.47 1.35L5.41 20z\"/>\n",
              "  </svg>\n",
              "      </button>\n",
              "      \n",
              "  <style>\n",
              "    .colab-df-container {\n",
              "      display:flex;\n",
              "      flex-wrap:wrap;\n",
              "      gap: 12px;\n",
              "    }\n",
              "\n",
              "    .colab-df-convert {\n",
              "      background-color: #E8F0FE;\n",
              "      border: none;\n",
              "      border-radius: 50%;\n",
              "      cursor: pointer;\n",
              "      display: none;\n",
              "      fill: #1967D2;\n",
              "      height: 32px;\n",
              "      padding: 0 0 0 0;\n",
              "      width: 32px;\n",
              "    }\n",
              "\n",
              "    .colab-df-convert:hover {\n",
              "      background-color: #E2EBFA;\n",
              "      box-shadow: 0px 1px 2px rgba(60, 64, 67, 0.3), 0px 1px 3px 1px rgba(60, 64, 67, 0.15);\n",
              "      fill: #174EA6;\n",
              "    }\n",
              "\n",
              "    [theme=dark] .colab-df-convert {\n",
              "      background-color: #3B4455;\n",
              "      fill: #D2E3FC;\n",
              "    }\n",
              "\n",
              "    [theme=dark] .colab-df-convert:hover {\n",
              "      background-color: #434B5C;\n",
              "      box-shadow: 0px 1px 3px 1px rgba(0, 0, 0, 0.15);\n",
              "      filter: drop-shadow(0px 1px 2px rgba(0, 0, 0, 0.3));\n",
              "      fill: #FFFFFF;\n",
              "    }\n",
              "  </style>\n",
              "\n",
              "      <script>\n",
              "        const buttonEl =\n",
              "          document.querySelector('#df-8aade826-ee4f-4526-87f8-255809147e99 button.colab-df-convert');\n",
              "        buttonEl.style.display =\n",
              "          google.colab.kernel.accessAllowed ? 'block' : 'none';\n",
              "\n",
              "        async function convertToInteractive(key) {\n",
              "          const element = document.querySelector('#df-8aade826-ee4f-4526-87f8-255809147e99');\n",
              "          const dataTable =\n",
              "            await google.colab.kernel.invokeFunction('convertToInteractive',\n",
              "                                                     [key], {});\n",
              "          if (!dataTable) return;\n",
              "\n",
              "          const docLinkHtml = 'Like what you see? Visit the ' +\n",
              "            '<a target=\"_blank\" href=https://colab.research.google.com/notebooks/data_table.ipynb>data table notebook</a>'\n",
              "            + ' to learn more about interactive tables.';\n",
              "          element.innerHTML = '';\n",
              "          dataTable['output_type'] = 'display_data';\n",
              "          await google.colab.output.renderOutput(dataTable, element);\n",
              "          const docLink = document.createElement('div');\n",
              "          docLink.innerHTML = docLinkHtml;\n",
              "          element.appendChild(docLink);\n",
              "        }\n",
              "      </script>\n",
              "    </div>\n",
              "  </div>\n",
              "  "
            ]
          },
          "metadata": {},
          "execution_count": 20
        }
      ]
    },
    {
      "cell_type": "code",
      "source": [
        "ejb.Category.unique()"
      ],
      "metadata": {
        "id": "AJCnuKabhIoC",
        "outputId": "3722a0bf-10c2-478e-f224-e5037d4e5882",
        "colab": {
          "base_uri": "https://localhost:8080/"
        }
      },
      "execution_count": null,
      "outputs": [
        {
          "output_type": "execute_result",
          "data": {
            "text/plain": [
              "array(['Juices', 'Smoothies'], dtype=object)"
            ]
          },
          "metadata": {},
          "execution_count": 21
        }
      ]
    },
    {
      "cell_type": "code",
      "source": [
        "juices = ejb.groupby('Category').get_group('Juices')\n",
        "juices.head()"
      ],
      "metadata": {
        "id": "Ggnbq4oKjKVD",
        "outputId": "ca0cdef9-b116-4b4f-8acd-c351cee64372",
        "colab": {
          "base_uri": "https://localhost:8080/",
          "height": 206
        }
      },
      "execution_count": null,
      "outputs": [
        {
          "output_type": "execute_result",
          "data": {
            "text/plain": [
              "   Order ID  Flavor Category  $ Sales Date Ordered Date Delivered  \\\n",
              "1     92145   Apple   Juices  1549.00   2018-01-01     2018-01-03   \n",
              "2     92145   Apple   Juices  1986.28   2018-01-01     2018-01-03   \n",
              "3     92145  Orange   Juices    16.43   2018-01-01     2018-01-03   \n",
              "12    92150   Grape   Juices  1366.97   2018-01-01     2018-01-03   \n",
              "25    92247  Carrot   Juices   411.28   2018-01-10     2018-01-12   \n",
              "\n",
              "   Distribution Center New Customer?  Service Satisfaction Rating  \\\n",
              "1                   ID           Yes                          5.0   \n",
              "2                   ID           Yes                          5.0   \n",
              "3                   ID           Yes                          5.0   \n",
              "12                  NE           Yes                          3.0   \n",
              "25                  ND            No                          4.0   \n",
              "\n",
              "    Product Satisfaction Rating  \n",
              "1                           4.0  \n",
              "2                           4.0  \n",
              "3                           3.0  \n",
              "12                          5.0  \n",
              "25                          5.0  "
            ],
            "text/html": [
              "\n",
              "  <div id=\"df-b6c6ad79-8713-4405-8727-ace4b6346493\">\n",
              "    <div class=\"colab-df-container\">\n",
              "      <div>\n",
              "<style scoped>\n",
              "    .dataframe tbody tr th:only-of-type {\n",
              "        vertical-align: middle;\n",
              "    }\n",
              "\n",
              "    .dataframe tbody tr th {\n",
              "        vertical-align: top;\n",
              "    }\n",
              "\n",
              "    .dataframe thead th {\n",
              "        text-align: right;\n",
              "    }\n",
              "</style>\n",
              "<table border=\"1\" class=\"dataframe\">\n",
              "  <thead>\n",
              "    <tr style=\"text-align: right;\">\n",
              "      <th></th>\n",
              "      <th>Order ID</th>\n",
              "      <th>Flavor</th>\n",
              "      <th>Category</th>\n",
              "      <th>$ Sales</th>\n",
              "      <th>Date Ordered</th>\n",
              "      <th>Date Delivered</th>\n",
              "      <th>Distribution Center</th>\n",
              "      <th>New Customer?</th>\n",
              "      <th>Service Satisfaction Rating</th>\n",
              "      <th>Product Satisfaction Rating</th>\n",
              "    </tr>\n",
              "  </thead>\n",
              "  <tbody>\n",
              "    <tr>\n",
              "      <th>1</th>\n",
              "      <td>92145</td>\n",
              "      <td>Apple</td>\n",
              "      <td>Juices</td>\n",
              "      <td>1549.00</td>\n",
              "      <td>2018-01-01</td>\n",
              "      <td>2018-01-03</td>\n",
              "      <td>ID</td>\n",
              "      <td>Yes</td>\n",
              "      <td>5.0</td>\n",
              "      <td>4.0</td>\n",
              "    </tr>\n",
              "    <tr>\n",
              "      <th>2</th>\n",
              "      <td>92145</td>\n",
              "      <td>Apple</td>\n",
              "      <td>Juices</td>\n",
              "      <td>1986.28</td>\n",
              "      <td>2018-01-01</td>\n",
              "      <td>2018-01-03</td>\n",
              "      <td>ID</td>\n",
              "      <td>Yes</td>\n",
              "      <td>5.0</td>\n",
              "      <td>4.0</td>\n",
              "    </tr>\n",
              "    <tr>\n",
              "      <th>3</th>\n",
              "      <td>92145</td>\n",
              "      <td>Orange</td>\n",
              "      <td>Juices</td>\n",
              "      <td>16.43</td>\n",
              "      <td>2018-01-01</td>\n",
              "      <td>2018-01-03</td>\n",
              "      <td>ID</td>\n",
              "      <td>Yes</td>\n",
              "      <td>5.0</td>\n",
              "      <td>3.0</td>\n",
              "    </tr>\n",
              "    <tr>\n",
              "      <th>12</th>\n",
              "      <td>92150</td>\n",
              "      <td>Grape</td>\n",
              "      <td>Juices</td>\n",
              "      <td>1366.97</td>\n",
              "      <td>2018-01-01</td>\n",
              "      <td>2018-01-03</td>\n",
              "      <td>NE</td>\n",
              "      <td>Yes</td>\n",
              "      <td>3.0</td>\n",
              "      <td>5.0</td>\n",
              "    </tr>\n",
              "    <tr>\n",
              "      <th>25</th>\n",
              "      <td>92247</td>\n",
              "      <td>Carrot</td>\n",
              "      <td>Juices</td>\n",
              "      <td>411.28</td>\n",
              "      <td>2018-01-10</td>\n",
              "      <td>2018-01-12</td>\n",
              "      <td>ND</td>\n",
              "      <td>No</td>\n",
              "      <td>4.0</td>\n",
              "      <td>5.0</td>\n",
              "    </tr>\n",
              "  </tbody>\n",
              "</table>\n",
              "</div>\n",
              "      <button class=\"colab-df-convert\" onclick=\"convertToInteractive('df-b6c6ad79-8713-4405-8727-ace4b6346493')\"\n",
              "              title=\"Convert this dataframe to an interactive table.\"\n",
              "              style=\"display:none;\">\n",
              "        \n",
              "  <svg xmlns=\"http://www.w3.org/2000/svg\" height=\"24px\"viewBox=\"0 0 24 24\"\n",
              "       width=\"24px\">\n",
              "    <path d=\"M0 0h24v24H0V0z\" fill=\"none\"/>\n",
              "    <path d=\"M18.56 5.44l.94 2.06.94-2.06 2.06-.94-2.06-.94-.94-2.06-.94 2.06-2.06.94zm-11 1L8.5 8.5l.94-2.06 2.06-.94-2.06-.94L8.5 2.5l-.94 2.06-2.06.94zm10 10l.94 2.06.94-2.06 2.06-.94-2.06-.94-.94-2.06-.94 2.06-2.06.94z\"/><path d=\"M17.41 7.96l-1.37-1.37c-.4-.4-.92-.59-1.43-.59-.52 0-1.04.2-1.43.59L10.3 9.45l-7.72 7.72c-.78.78-.78 2.05 0 2.83L4 21.41c.39.39.9.59 1.41.59.51 0 1.02-.2 1.41-.59l7.78-7.78 2.81-2.81c.8-.78.8-2.07 0-2.86zM5.41 20L4 18.59l7.72-7.72 1.47 1.35L5.41 20z\"/>\n",
              "  </svg>\n",
              "      </button>\n",
              "      \n",
              "  <style>\n",
              "    .colab-df-container {\n",
              "      display:flex;\n",
              "      flex-wrap:wrap;\n",
              "      gap: 12px;\n",
              "    }\n",
              "\n",
              "    .colab-df-convert {\n",
              "      background-color: #E8F0FE;\n",
              "      border: none;\n",
              "      border-radius: 50%;\n",
              "      cursor: pointer;\n",
              "      display: none;\n",
              "      fill: #1967D2;\n",
              "      height: 32px;\n",
              "      padding: 0 0 0 0;\n",
              "      width: 32px;\n",
              "    }\n",
              "\n",
              "    .colab-df-convert:hover {\n",
              "      background-color: #E2EBFA;\n",
              "      box-shadow: 0px 1px 2px rgba(60, 64, 67, 0.3), 0px 1px 3px 1px rgba(60, 64, 67, 0.15);\n",
              "      fill: #174EA6;\n",
              "    }\n",
              "\n",
              "    [theme=dark] .colab-df-convert {\n",
              "      background-color: #3B4455;\n",
              "      fill: #D2E3FC;\n",
              "    }\n",
              "\n",
              "    [theme=dark] .colab-df-convert:hover {\n",
              "      background-color: #434B5C;\n",
              "      box-shadow: 0px 1px 3px 1px rgba(0, 0, 0, 0.15);\n",
              "      filter: drop-shadow(0px 1px 2px rgba(0, 0, 0, 0.3));\n",
              "      fill: #FFFFFF;\n",
              "    }\n",
              "  </style>\n",
              "\n",
              "      <script>\n",
              "        const buttonEl =\n",
              "          document.querySelector('#df-b6c6ad79-8713-4405-8727-ace4b6346493 button.colab-df-convert');\n",
              "        buttonEl.style.display =\n",
              "          google.colab.kernel.accessAllowed ? 'block' : 'none';\n",
              "\n",
              "        async function convertToInteractive(key) {\n",
              "          const element = document.querySelector('#df-b6c6ad79-8713-4405-8727-ace4b6346493');\n",
              "          const dataTable =\n",
              "            await google.colab.kernel.invokeFunction('convertToInteractive',\n",
              "                                                     [key], {});\n",
              "          if (!dataTable) return;\n",
              "\n",
              "          const docLinkHtml = 'Like what you see? Visit the ' +\n",
              "            '<a target=\"_blank\" href=https://colab.research.google.com/notebooks/data_table.ipynb>data table notebook</a>'\n",
              "            + ' to learn more about interactive tables.';\n",
              "          element.innerHTML = '';\n",
              "          dataTable['output_type'] = 'display_data';\n",
              "          await google.colab.output.renderOutput(dataTable, element);\n",
              "          const docLink = document.createElement('div');\n",
              "          docLink.innerHTML = docLinkHtml;\n",
              "          element.appendChild(docLink);\n",
              "        }\n",
              "      </script>\n",
              "    </div>\n",
              "  </div>\n",
              "  "
            ]
          },
          "metadata": {},
          "execution_count": 22
        }
      ]
    },
    {
      "cell_type": "code",
      "source": [
        "smoothies = ejb.groupby('Category').get_group('Smoothies')\n",
        "smoothies.head()"
      ],
      "metadata": {
        "id": "akaeMvYKfXZU",
        "outputId": "3d4fb037-d22f-4ec7-a823-78ac12575a97",
        "colab": {
          "base_uri": "https://localhost:8080/",
          "height": 206
        }
      },
      "execution_count": null,
      "outputs": [
        {
          "output_type": "execute_result",
          "data": {
            "text/plain": [
              "   Order ID  Flavor   Category  $ Sales Date Ordered Date Delivered  \\\n",
              "14    92152  Orange  Smoothies    63.72   2018-01-01     2018-01-03   \n",
              "31    92265   Grape  Smoothies    36.91   2018-01-12     2018-01-14   \n",
              "36    92298  Carrot  Smoothies   303.48   2018-01-16     2018-01-18   \n",
              "41    92301    Pear  Smoothies   291.04   2018-01-16     2018-01-18   \n",
              "45    92309   Apple  Smoothies   877.43   2018-01-16     2018-01-18   \n",
              "\n",
              "   Distribution Center New Customer?  Service Satisfaction Rating  \\\n",
              "14                  NM           Yes                          3.0   \n",
              "31                  ID            No                          5.0   \n",
              "36                  ND           Yes                          1.0   \n",
              "41                  NE            No                          1.0   \n",
              "45                  RI            No                          1.0   \n",
              "\n",
              "    Product Satisfaction Rating  \n",
              "14                          3.0  \n",
              "31                          2.0  \n",
              "36                          2.0  \n",
              "41                          4.0  \n",
              "45                          3.0  "
            ],
            "text/html": [
              "\n",
              "  <div id=\"df-48215d41-a9df-4cfd-ab90-672aa0ece710\">\n",
              "    <div class=\"colab-df-container\">\n",
              "      <div>\n",
              "<style scoped>\n",
              "    .dataframe tbody tr th:only-of-type {\n",
              "        vertical-align: middle;\n",
              "    }\n",
              "\n",
              "    .dataframe tbody tr th {\n",
              "        vertical-align: top;\n",
              "    }\n",
              "\n",
              "    .dataframe thead th {\n",
              "        text-align: right;\n",
              "    }\n",
              "</style>\n",
              "<table border=\"1\" class=\"dataframe\">\n",
              "  <thead>\n",
              "    <tr style=\"text-align: right;\">\n",
              "      <th></th>\n",
              "      <th>Order ID</th>\n",
              "      <th>Flavor</th>\n",
              "      <th>Category</th>\n",
              "      <th>$ Sales</th>\n",
              "      <th>Date Ordered</th>\n",
              "      <th>Date Delivered</th>\n",
              "      <th>Distribution Center</th>\n",
              "      <th>New Customer?</th>\n",
              "      <th>Service Satisfaction Rating</th>\n",
              "      <th>Product Satisfaction Rating</th>\n",
              "    </tr>\n",
              "  </thead>\n",
              "  <tbody>\n",
              "    <tr>\n",
              "      <th>14</th>\n",
              "      <td>92152</td>\n",
              "      <td>Orange</td>\n",
              "      <td>Smoothies</td>\n",
              "      <td>63.72</td>\n",
              "      <td>2018-01-01</td>\n",
              "      <td>2018-01-03</td>\n",
              "      <td>NM</td>\n",
              "      <td>Yes</td>\n",
              "      <td>3.0</td>\n",
              "      <td>3.0</td>\n",
              "    </tr>\n",
              "    <tr>\n",
              "      <th>31</th>\n",
              "      <td>92265</td>\n",
              "      <td>Grape</td>\n",
              "      <td>Smoothies</td>\n",
              "      <td>36.91</td>\n",
              "      <td>2018-01-12</td>\n",
              "      <td>2018-01-14</td>\n",
              "      <td>ID</td>\n",
              "      <td>No</td>\n",
              "      <td>5.0</td>\n",
              "      <td>2.0</td>\n",
              "    </tr>\n",
              "    <tr>\n",
              "      <th>36</th>\n",
              "      <td>92298</td>\n",
              "      <td>Carrot</td>\n",
              "      <td>Smoothies</td>\n",
              "      <td>303.48</td>\n",
              "      <td>2018-01-16</td>\n",
              "      <td>2018-01-18</td>\n",
              "      <td>ND</td>\n",
              "      <td>Yes</td>\n",
              "      <td>1.0</td>\n",
              "      <td>2.0</td>\n",
              "    </tr>\n",
              "    <tr>\n",
              "      <th>41</th>\n",
              "      <td>92301</td>\n",
              "      <td>Pear</td>\n",
              "      <td>Smoothies</td>\n",
              "      <td>291.04</td>\n",
              "      <td>2018-01-16</td>\n",
              "      <td>2018-01-18</td>\n",
              "      <td>NE</td>\n",
              "      <td>No</td>\n",
              "      <td>1.0</td>\n",
              "      <td>4.0</td>\n",
              "    </tr>\n",
              "    <tr>\n",
              "      <th>45</th>\n",
              "      <td>92309</td>\n",
              "      <td>Apple</td>\n",
              "      <td>Smoothies</td>\n",
              "      <td>877.43</td>\n",
              "      <td>2018-01-16</td>\n",
              "      <td>2018-01-18</td>\n",
              "      <td>RI</td>\n",
              "      <td>No</td>\n",
              "      <td>1.0</td>\n",
              "      <td>3.0</td>\n",
              "    </tr>\n",
              "  </tbody>\n",
              "</table>\n",
              "</div>\n",
              "      <button class=\"colab-df-convert\" onclick=\"convertToInteractive('df-48215d41-a9df-4cfd-ab90-672aa0ece710')\"\n",
              "              title=\"Convert this dataframe to an interactive table.\"\n",
              "              style=\"display:none;\">\n",
              "        \n",
              "  <svg xmlns=\"http://www.w3.org/2000/svg\" height=\"24px\"viewBox=\"0 0 24 24\"\n",
              "       width=\"24px\">\n",
              "    <path d=\"M0 0h24v24H0V0z\" fill=\"none\"/>\n",
              "    <path d=\"M18.56 5.44l.94 2.06.94-2.06 2.06-.94-2.06-.94-.94-2.06-.94 2.06-2.06.94zm-11 1L8.5 8.5l.94-2.06 2.06-.94-2.06-.94L8.5 2.5l-.94 2.06-2.06.94zm10 10l.94 2.06.94-2.06 2.06-.94-2.06-.94-.94-2.06-.94 2.06-2.06.94z\"/><path d=\"M17.41 7.96l-1.37-1.37c-.4-.4-.92-.59-1.43-.59-.52 0-1.04.2-1.43.59L10.3 9.45l-7.72 7.72c-.78.78-.78 2.05 0 2.83L4 21.41c.39.39.9.59 1.41.59.51 0 1.02-.2 1.41-.59l7.78-7.78 2.81-2.81c.8-.78.8-2.07 0-2.86zM5.41 20L4 18.59l7.72-7.72 1.47 1.35L5.41 20z\"/>\n",
              "  </svg>\n",
              "      </button>\n",
              "      \n",
              "  <style>\n",
              "    .colab-df-container {\n",
              "      display:flex;\n",
              "      flex-wrap:wrap;\n",
              "      gap: 12px;\n",
              "    }\n",
              "\n",
              "    .colab-df-convert {\n",
              "      background-color: #E8F0FE;\n",
              "      border: none;\n",
              "      border-radius: 50%;\n",
              "      cursor: pointer;\n",
              "      display: none;\n",
              "      fill: #1967D2;\n",
              "      height: 32px;\n",
              "      padding: 0 0 0 0;\n",
              "      width: 32px;\n",
              "    }\n",
              "\n",
              "    .colab-df-convert:hover {\n",
              "      background-color: #E2EBFA;\n",
              "      box-shadow: 0px 1px 2px rgba(60, 64, 67, 0.3), 0px 1px 3px 1px rgba(60, 64, 67, 0.15);\n",
              "      fill: #174EA6;\n",
              "    }\n",
              "\n",
              "    [theme=dark] .colab-df-convert {\n",
              "      background-color: #3B4455;\n",
              "      fill: #D2E3FC;\n",
              "    }\n",
              "\n",
              "    [theme=dark] .colab-df-convert:hover {\n",
              "      background-color: #434B5C;\n",
              "      box-shadow: 0px 1px 3px 1px rgba(0, 0, 0, 0.15);\n",
              "      filter: drop-shadow(0px 1px 2px rgba(0, 0, 0, 0.3));\n",
              "      fill: #FFFFFF;\n",
              "    }\n",
              "  </style>\n",
              "\n",
              "      <script>\n",
              "        const buttonEl =\n",
              "          document.querySelector('#df-48215d41-a9df-4cfd-ab90-672aa0ece710 button.colab-df-convert');\n",
              "        buttonEl.style.display =\n",
              "          google.colab.kernel.accessAllowed ? 'block' : 'none';\n",
              "\n",
              "        async function convertToInteractive(key) {\n",
              "          const element = document.querySelector('#df-48215d41-a9df-4cfd-ab90-672aa0ece710');\n",
              "          const dataTable =\n",
              "            await google.colab.kernel.invokeFunction('convertToInteractive',\n",
              "                                                     [key], {});\n",
              "          if (!dataTable) return;\n",
              "\n",
              "          const docLinkHtml = 'Like what you see? Visit the ' +\n",
              "            '<a target=\"_blank\" href=https://colab.research.google.com/notebooks/data_table.ipynb>data table notebook</a>'\n",
              "            + ' to learn more about interactive tables.';\n",
              "          element.innerHTML = '';\n",
              "          dataTable['output_type'] = 'display_data';\n",
              "          await google.colab.output.renderOutput(dataTable, element);\n",
              "          const docLink = document.createElement('div');\n",
              "          docLink.innerHTML = docLinkHtml;\n",
              "          element.appendChild(docLink);\n",
              "        }\n",
              "      </script>\n",
              "    </div>\n",
              "  </div>\n",
              "  "
            ]
          },
          "metadata": {},
          "execution_count": 23
        }
      ]
    },
    {
      "cell_type": "code",
      "source": [
        "plt.hist(juices['Product Satisfaction Rating'])"
      ],
      "metadata": {
        "id": "3hWTAd7jhRli",
        "colab": {
          "base_uri": "https://localhost:8080/",
          "height": 334
        },
        "outputId": "e07d72ff-09d9-42c9-e0cb-7e7d0fad5a3d"
      },
      "execution_count": null,
      "outputs": [
        {
          "output_type": "execute_result",
          "data": {
            "text/plain": [
              "(array([ 298.,    0.,  634.,    0.,    0.,  633.,    0.,  643.,    0.,\n",
              "        1309.]),\n",
              " array([1. , 1.4, 1.8, 2.2, 2.6, 3. , 3.4, 3.8, 4.2, 4.6, 5. ]),\n",
              " <BarContainer object of 10 artists>)"
            ]
          },
          "metadata": {},
          "execution_count": 24
        },
        {
          "output_type": "display_data",
          "data": {
            "text/plain": [
              "<Figure size 432x288 with 1 Axes>"
            ],
            "image/png": "[encoded data removed]"
          },
          "metadata": {
            "needs_background": "light"
          }
        }
      ]
    },
    {
      "cell_type": "code",
      "source": [
        "plt.hist(juices['$ Sales'])"
      ],
      "metadata": {
        "id": "3fppb_T_hUGT",
        "colab": {
          "base_uri": "https://localhost:8080/",
          "height": 352
        },
        "outputId": "252b6f82-031d-49eb-e462-3df8ce760adc"
      },
      "execution_count": null,
      "outputs": [
        {
          "output_type": "execute_result",
          "data": {
            "text/plain": [
              "(array([611., 519., 514., 426., 378., 314., 246., 213., 183., 113.]),\n",
              " array([3.100000e-01, 2.001670e+02, 4.000240e+02, 5.998810e+02,\n",
              "        7.997380e+02, 9.995950e+02, 1.199452e+03, 1.399309e+03,\n",
              "        1.599166e+03, 1.799023e+03, 1.998880e+03]),\n",
              " <BarContainer object of 10 artists>)"
            ]
          },
          "metadata": {},
          "execution_count": 25
        },
        {
          "output_type": "display_data",
          "data": {
            "text/plain": [
              "<Figure size 432x288 with 1 Axes>"
            ],
            "image/png": "[encoded data removed]"
          },
          "metadata": {
            "needs_background": "light"
          }
        }
      ]
    },
    {
      "cell_type": "code",
      "source": [
        "plt.hist(juices['Service Satisfaction Rating'])"
      ],
      "metadata": {
        "id": "PoN2WVT5hbTi",
        "colab": {
          "base_uri": "https://localhost:8080/",
          "height": 317
        },
        "outputId": "d42fd8e7-433e-49f1-8fd2-e5ed092fc283"
      },
      "execution_count": null,
      "outputs": [
        {
          "output_type": "execute_result",
          "data": {
            "text/plain": [
              "(array([490.,   0., 705.,   0.,   0., 639.,   0., 703.,   0., 980.]),\n",
              " array([1. , 1.4, 1.8, 2.2, 2.6, 3. , 3.4, 3.8, 4.2, 4.6, 5. ]),\n",
              " <BarContainer object of 10 artists>)"
            ]
          },
          "metadata": {},
          "execution_count": 26
        },
        {
          "output_type": "display_data",
          "data": {
            "text/plain": [
              "<Figure size 432x288 with 1 Axes>"
            ],
            "image/png": "[encoded data removed]"
          },
          "metadata": {
            "needs_background": "light"
          }
        }
      ]
    },
    {
      "cell_type": "code",
      "source": [
        "plt.hist(smoothies['Product Satisfaction Rating'])"
      ],
      "metadata": {
        "id": "DkrSE-ENg3OC",
        "colab": {
          "base_uri": "https://localhost:8080/",
          "height": 334
        },
        "outputId": "6fcc92f9-e37d-463d-caac-55b6fc00eaa8"
      },
      "execution_count": null,
      "outputs": [
        {
          "output_type": "execute_result",
          "data": {
            "text/plain": [
              "(array([ 235.,    0.,  543.,    0.,    0.,  505.,    0.,  514.,    0.,\n",
              "        1053.]),\n",
              " array([1. , 1.4, 1.8, 2.2, 2.6, 3. , 3.4, 3.8, 4.2, 4.6, 5. ]),\n",
              " <BarContainer object of 10 artists>)"
            ]
          },
          "metadata": {},
          "execution_count": 27
        },
        {
          "output_type": "display_data",
          "data": {
            "text/plain": [
              "<Figure size 432x288 with 1 Axes>"
            ],
            "image/png": "[encoded data removed]"
          },
          "metadata": {
            "needs_background": "light"
          }
        }
      ]
    },
    {
      "cell_type": "code",
      "source": [
        "plt.hist(smoothies['$ Sales'])"
      ],
      "metadata": {
        "id": "v-tcbfqYgCne",
        "colab": {
          "base_uri": "https://localhost:8080/",
          "height": 352
        },
        "outputId": "9e775a62-ca8b-423d-8196-9bc3c6e163cc"
      },
      "execution_count": null,
      "outputs": [
        {
          "output_type": "execute_result",
          "data": {
            "text/plain": [
              "(array([582., 455., 406., 360., 341., 277., 194., 127.,  72.,  36.]),\n",
              " array([5.000000e-02, 1.968940e+02, 3.937380e+02, 5.905820e+02,\n",
              "        7.874260e+02, 9.842700e+02, 1.181114e+03, 1.377958e+03,\n",
              "        1.574802e+03, 1.771646e+03, 1.968490e+03]),\n",
              " <BarContainer object of 10 artists>)"
            ]
          },
          "metadata": {},
          "execution_count": 28
        },
        {
          "output_type": "display_data",
          "data": {
            "text/plain": [
              "<Figure size 432x288 with 1 Axes>"
            ],
            "image/png": "[encoded data removed]"
          },
          "metadata": {
            "needs_background": "light"
          }
        }
      ]
    },
    {
      "cell_type": "code",
      "source": [
        "plt.hist(smoothies['Service Satisfaction Rating'])"
      ],
      "metadata": {
        "id": "biPiOgCle66S",
        "colab": {
          "base_uri": "https://localhost:8080/",
          "height": 317
        },
        "outputId": "6a264ef3-5bb0-4d68-9f6e-ae2939b90c36"
      },
      "execution_count": null,
      "outputs": [
        {
          "output_type": "execute_result",
          "data": {
            "text/plain": [
              "(array([429.,   0., 538.,   0.,   0., 531.,   0., 537.,   0., 815.]),\n",
              " array([1. , 1.4, 1.8, 2.2, 2.6, 3. , 3.4, 3.8, 4.2, 4.6, 5. ]),\n",
              " <BarContainer object of 10 artists>)"
            ]
          },
          "metadata": {},
          "execution_count": 29
        },
        {
          "output_type": "display_data",
          "data": {
            "text/plain": [
              "<Figure size 432x288 with 1 Axes>"
            ],
            "image/png": "[encoded data removed]"
          },
          "metadata": {
            "needs_background": "light"
          }
        }
      ]
    },
    {
      "cell_type": "code",
      "source": [],
      "metadata": {
        "id": "X-2OkFpypr3P"
      },
      "execution_count": null,
      "outputs": []
    },
    {
      "cell_type": "markdown",
      "source": [
        "## Construct the relative frequency distribution of records over the values of the New Customer variable. In the PivotTable, relabel a “No” value for New Customer as “Existing” and a “Yes” value as “New.” Describe your findings. "
      ],
      "metadata": {
        "id": "nr60fGTFps0Z"
      }
    },
    {
      "cell_type": "code",
      "source": [
        "ejb[\"New Customer?\"] = ejb[\"New Customer?\"].replace({\"No\": \"Existing\", \"Yes\": \"New\"})"
      ],
      "metadata": {
        "id": "akv3FLt9jKO7"
      },
      "execution_count": null,
      "outputs": []
    },
    {
      "cell_type": "markdown",
      "source": [
        "# Considering only records that report values of Product Satisfaction Rating, construct the relative frequency distribution of records over the different flavors. "
      ],
      "metadata": {
        "id": "d8LQg1e2lCBS"
      }
    },
    {
      "cell_type": "code",
      "source": [
        "prod_sat = ejb[ejb['Product Satisfaction Rating'].notna()]"
      ],
      "metadata": {
        "id": "PZpVye8FrIHx"
      },
      "execution_count": null,
      "outputs": []
    },
    {
      "cell_type": "code",
      "source": [
        "freq_dist = ejb['Flavor'].value_counts()\n",
        "freq_dist.head()"
      ],
      "metadata": {
        "colab": {
          "base_uri": "https://localhost:8080/"
        },
        "id": "-lJsyzYIvOqt",
        "outputId": "ea3f7c03-0ca5-464c-9056-5ca15beba3ed"
      },
      "execution_count": null,
      "outputs": [
        {
          "output_type": "execute_result",
          "data": {
            "text/plain": [
              "Orange      874\n",
              "Pear        841\n",
              "Cucumber    821\n",
              "Apple       810\n",
              "Grape       755\n",
              "Name: Flavor, dtype: int64"
            ]
          },
          "metadata": {},
          "execution_count": 32
        }
      ]
    },
    {
      "cell_type": "code",
      "source": [
        "ejb['Flavor'].sum()"
      ],
      "metadata": {
        "colab": {
          "base_uri": "https://localhost:8080/",
          "height": 105
        },
        "id": "OXq3Ut4nvXUl",
        "outputId": "fdc7ec01-51b4-426e-f5b0-97f1949af436"
      },
      "execution_count": null,
      "outputs": [
        {
          "output_type": "execute_result",
          "data": {
            "text/plain": [
              "'AppleAppleOrangeGrapeOrangeCarrotGrapeTomatoCucumberCarrotCeleryPearAppleGrapeAppleBeetCucumberOrangeCucumberCeleryPearCucumberTomatoAppleTomatoBeetOrangeCarrotCucumberPearCucumberOrangeGrapeGrapeOrangeCucumberAppleOrangeCeleryCarrotPearGrapeOrangeCeleryOrangeCarrotAppleCeleryPearTomatoCucumberCucumberAppleBeetCarrotCucumberOrangeCucumberTomatoBeetCarrotGrapeAppleCeleryAppleAppleCeleryCeleryCucumberAppleAppleTomatoBeetTomatoGrapePearCucumberCucumberCucumberPearPearGrapeTomatoPearCeleryCeleryAppleCarrotAppleBeetCarrotCeleryTomatoGrapeCucumberTomatoTomatoAppleTomatoApplePearCarrotCeleryGrapeGrapeCeleryAppleCeleryAppleOrangeGrapeOrangeCarrotAppleGrapeCucumberGrapeGrapeCarrotCarrotOrangeCeleryCeleryBeetGrapePearGrapePearCucumberGrapeOrangeTomatoGrapeCucumberOrangeCeleryPearCucumberCucumberGrapeCeleryCucumberCucumberOrangePearPearApplePearPearCucumberPearGrapeCucumberCucumberCucumberOrangeAppleTomatoPearOrangeTomatoAppleTomatoOrangeBeetOrangeCucumberCarrotBeetCeleryCarrotGrapeCucumberCarrotAppleCarrotAppleOrangeGrapeGrapePearBeetGrapePearTomatoCucumberCarrotCeleryCucumberCarrotAppleCarrotBeetPearAppleCeleryCucumberCeleryCucumberPearCarrotCucumberCarrotGrapeTomatoTomatoCeleryAppleOrangeAppleBeetCucumberCucumberTomatoPearCeleryCarrotGrapeAppleGrapePearPearGrapeGrapeCarrotOrangeGrapeCucumberAppleBeetCarrotPearCeleryOrangeCeleryCucumberCucumberBeetCarrotCarrotCucumberAppleCucumberCarrotGrapePearPearOrangeTomatoOrangeAppleCarrotPearTomatoCeleryGrapeCucumberCeleryCarrotCucumberGrapeOrangeCucumberOrangeAppleCeleryCucumberCarrotTomatoAppleCucumberCeleryOrangeCarrotPearGrapeCucumberCucumberOrangePearPearBeetTomatoOrangePearPearBeetCarrotCarrotCeleryCarrotGrapeCarrotCucumberAppleAppleBeetCeleryOrangeGrapeBeetCeleryCarrotPearPearOrangeCeleryAppleCarrotCucumberTomatoOrangeGrapePearBeetCarrotAppleCeleryPearBeetCucumberAppleCeleryAppleCarrotCarrotPearCeleryPearGrapeCeleryCarrotAppleCarrotAppleAppleAppleCarrotGrapeGrapeCeleryCeleryGrapeCarrotTomatoPearCeleryOrangeTomatoBeetOrangePearOrangePearPearAppleCeleryCarrotAppleCucumberOrangePearCucumberPearPearOrangeCarrotCucumberCarrotOrangeBeetCucumberOrangeCarrotTomatoOrangeGrapeOrangeCucumberOrangeBeetGrapeOrangeBeetPearPearCucumberTomatoCarrotAppleBeetPearTomatoOrangeApplePearPearPearPearAppleCucumberPearCarrotBeetPearCucumberCucumberAppleBeetGrapePearApplePearCarrotPearPearPearGrapeCucumberPearPearAppleGrapeAppleCeleryCeleryGrapePearAppleTomatoTomatoPearOrangeOrangeCucumberGrapePearPearCeleryAppleOrangePearTomatoTomatoOrangeGrapePearPearCarrotCucumberTomatoCeleryOrangeCeleryCarrotTomatoGrapeGrapeCeleryGrapeCucumberPearPearBeetCarrotCeleryTomatoAppleAppleBeetCarrotBeetCarrotCeleryBeetTomatoCucumberOrangeCucumberBeetGrapeBeetOrangeCucumberTomatoAppleAppleCarrotOrangeCucumberCarrotGrapeApplePearCucumberCucumberCucumberGrapeAppleGrapeGrapeCucumberAppleBeetPearCucumberPearPearPearGrapeCucumberCarrotBeetAppleAppleCucumberBeetCucumberGrapeGrapeCucumberCucumberAppleAppleAppleCarrotCarrotOrangeAppleAppleCeleryBeetPearCucumberPearBeetCeleryAppleAppleCucumberPearBeetPearOrangeCarrotGrapeCarrotGrapePearOrangeCarrotCucumberOrangeTomatoCucumberBeetGrapeCeleryOrangeCarrotGrapeCarrotPearGrapeCarrotOrangeCarrotTomatoPearCucumberCeleryCucumberCucumberCucumberCucumberApplePearTomatoAppleCarrotCucumberAppleCarrotCucumberPearCarrotCucumberBeetCarrotGrapeOrangeCeleryPearGrapePearCeleryGrapeOrangeTomatoGrapePearCarrotAppleAppleCucumberTomatoOrangeCucumberOrangeGrapeCeleryBeetCucumberBeetCucumberCeleryCarrotAppleApplePearGrapeCeleryOrangeAppleApplePearCarrotOrangeGrapeCucumberPearCeleryGrapeAppleCarrotGrapeCucumberCucumberCucumberAppleCucumberCeleryPearCucumberCucumberTomatoAppleCarrotAppleAppleTomatoAppleAppleAppleTomatoPearAppleCeleryGrapePearPearCarrotOrangePearGrapeTomatoAppleCeleryGrapeCarrotBeetCeleryBeetAppleBeetBeetPearCeleryAppleAppleCarrotCucumberCucumberCucumberCeleryGrapeGrapeBeetGrapeCeleryGrapeGrapeCucumberGrapeGrapeCeleryGrapeOrangePearApplePearGrapeCarrotCucumberCeleryCarrotCeleryOrangeOrangePearGrapeCucumberGrapePearPearBeetAppleAppleCucumberPearApplePearCucumberTomatoCucumberCarrotOrangePearAppleGrapeAppleCucumberCucumberBeetTomatoAppleAppleCucumberGrapeBeetBeetAppleGrapeCarrotCeleryCeleryAppleGrapeGrapeBeetCucumberAppleCeleryAppleCucumberCucumberCucumberTomatoOrangeCucumberApplePearBeetCarrotCeleryAppleBeetCucumberCucumberGrapePearCeleryPearGrapeCucumberPearCarrotCucumberOrangeCucumberAppleCucumberPearCarrotCeleryPearGrapeCucumberCarrotGrapeCarrotGrapeTomatoCucumberCucumberBeetBeetAppleCeleryBeetCucumberPearCarrotCarrotApplePearGrapeBeetOrangeTomatoCeleryBeetAppleCucumberBeetOrangeOrangeGrapeCarrotGrapePearBeetAppleCucumberCarrotCucumberCucumberBeetCeleryOrangeCeleryTomatoCarrotGrapeBeetGrapeGrapeCarrotTomatoAppleCarrotCarrotCeleryCeleryCucumberPearBeetCucumberOrangeCarrotPearCucumberCucumberOrangeAppleOrangeGrapeOrangeCucumberCucumberTomatoOrangeAppleCeleryGrapeCeleryCucumberPearAppleCarrotPearCeleryOrangeCeleryGrapeCucumberCucumberCucumberCeleryCeleryCeleryAppleCeleryPearCarrotBeetCarrotTomatoOrangeCarrotApplePearCucumberPearAppleCarrotPearCarrotBeetCarrotCarrotGrapeBeetBeetPearCeleryPearPearOrangeCucumberAppleCucumberAppleTomatoTomatoAppleCucumberPearCarrotCarrotBeetBeetCarrotCarrotOrangePearOrangeCucumberPearCarrotBeetPearCarrotCucumberAppleCarrotCarrotCarrotOrangeCucumberCeleryGrapeCeleryAppleCarrotPearPearBeetCeleryOrangeOrangeAppleCeleryCeleryTomatoCarrotCarrotOrangeTomatoTomatoCucumberCucumberCeleryGrapeGrapeCucumberAppleGrapeAppleCarrotOrangeCeleryAppleCeleryCeleryCarrotPearCarrotTomatoTomatoApplePearGrapeBeetOrangeApplePearAppleCarrotGrapeGrapeCarrotOrangeGrapeBeetCarrotPearPearGrapeGrapeAppleCucumberPearCarrotCucumberOrangeGrapeAppleCarrotOrangeCarrotAppleBeetCeleryAppleCarrotCarrotGrapeCarrotGrapeOrangeCarrotPearApplePearApplePearPearCeleryCarrotOrangeOrangeOrangeCeleryPearAppleGrapePearCucumberGrapeGrapeCucumberGrapeAppleCucumberApplePearCucumberCarrotApplePearGrapeAppleCarrotCeleryPearCucumberCucumberBeetAppleTomatoCarrotGrapeCarrotCucumberPearPearAppleTomatoPearGrapeGrapeCeleryTomatoBeetAppleAppleAppleCarrotTomatoGrapeAppleAppleAppleCucumberPearCucumberAppleOrangeAppleCeleryOrangePearOrangeCeleryCucumberAppleTomatoAppleBeetPearOrangePearCarrotApplePearGrapeCarrotCeleryCucumberCarrotAppleTomatoPearPearOrangeCucumberTomatoAppleOrangeCarrotOrangeGrapeApplePearCarrotCeleryBeetCarrotCeleryPearCarrotOrangeOrangeCarrotAppleCucumberAppleGrapeCeleryPearOrangeCarrotCucumberPearCucumberAppleCarrotPearCucumberAppleCarrotOrangePearGrapeCucumberPearApplePearAppleCucumberCucumberCucumberBeetTomatoCucumberBeetCucumberCarrotOrangePearTomatoCucumberAppleCarrotPearCucumberTomatoCucumberCarrotCeleryOrangeOrangeGrapeOrangeOrangeOrangeTomatoGrapeCeleryCeleryOrangePearOrangeGrapeAppleCucumberGrapeAppleAppleTomatoPearCucumberCeleryCeleryGrapeTomatoBeetCucumberBeetCarrotBeetCeleryCucumberTomatoCucumberCarrotPearAppleCucumberAppleCucumberPearAppleGrapeOrangeCeleryCucumberApplePearCeleryCucumberAppleCucumberApplePearCeleryCarrotCeleryCeleryPearCarrotBeetCucumberCucumberTomatoOrangeAppleCarrotCucumberCarrotOrangeAppleGrapeApplePearAppleTomatoPearTomatoTomatoAppleCarrotCeleryCucumberCucumberBeetPearPearCeleryAppleAppleCarrotPearCeleryBeetCucumberCucumberAppleGrapeOrangeCeleryAppleGrapeCucumberOrangeAppleBeetTomatoCeleryPearPearOrangeAppleCucumberGrapeGrapeCeleryTomatoOrangeCarrotCarrotGrapeCucumberPearCeleryGrapeOrangePearGrapeCucumberCeleryOrangeGrapePearTomatoCucumberCarrotOrangePearCeleryGrapeCucumberAppleCarrotBeetCeleryGrapeAppleCucumberPearPearOrangeGrapeGrapeCarrotBeetTomatoCucumberGrapeGrapeCeleryCarrotAppleGrapeGrapePearCarrotGrapeCucumberCarrotAppleAppleGrapeCucumberPearApplePearGrapePearBeetAppleAppleBeetCucumberOrangeCeleryAppleCeleryPearAppleCucumberCeleryGrapeCeleryCucumberGrapeCarrotGrapeAppleGrapeGrapeAppleAppleGrapeCucumberCarrotOrangePearTomatoGrapePearCucumberTomatoTomatoTomatoOrangeAppleGrapeCarrotCarrotCucumberOrangeGrapeCucumberAppleCarrotGrapePearCeleryCucumberCucumberCarrotCeleryPearGrapeTomatoCeleryBeetBeetAppleOrangeCarrotAppleGrapeGrapeCucumberGrapeGrapeCarrotPearBeetAppleGrapeCucumberGrapeOrangeCarrotAppleBeetAppleTomatoGrapeCarrotCarrotCucumberCarrotCarrotCarrotOrangeCucumberTomatoCeleryCucumberCeleryCucumberCeleryAppleGrapeAppleCarrotOrangeCucumberGrapeBeetCucumberCucumberCarrotTomatoPearAppleCucumberPearGrapeAppleGrapeCarrotAppleCeleryGrapePearGrapeCucumberPearTomatoCeleryOrangeCeleryBeetCarrotOrangeBeetPearPearGrapeAppleGrapeCucumberCarrotCarrotPearGrapeOrangeBeetCucumberPearCeleryCarrotGrapeGrapeCeleryAppleCucumberGrapePearPearApplePearOrangeAppleCarrotOrangeTomatoCucumberBeetCarrotPearCeleryCeleryCeleryOrangeOrangeGrapeCeleryPearGrapePearAppleAppleCucumberCucumberBeetCucumberGrapeCeleryGrapeCucumberGrapeAppleCucumberCarrotGrapePearCucumberGrapeCucumberCarrotAppleCarrotGrapeCucumberCucumberOrangeGrapePearAppleCucumberCarrotGrapeOrangePearCarrotTomatoPearPearCarrotGrapeAppleCarrotCucumberAppleCucumberBeetBeetTomatoGrapeAppleCeleryPearCeleryCarrotCarrotCucumberCeleryPearCeleryPearTomatoCarrotCeleryCeleryCeleryAppleTomatoGrapeAppleOrangeAppleTomatoTomatoPearAppleCeleryCarrotBeetCucumberBeetTomatoGrapeBeetCarrotPearCeleryCucumberCucumberGrapeCarrotGrapeTomatoCucumberBeetTomatoGrapeGrapePearCucumberTomatoCucumberCarrotCarrotPearCucumberPearPearTomatoPearBeetAppleCarrotTomatoTomatoApplePearCucumberCeleryAppleAppleCarrotCarrotAppleCucumberCarrotGrapeBeetGrapeGrapePearGrapeAppleCarrotCucumberAppleCeleryCeleryCeleryAppleCarrotOrangeCeleryAppleCeleryPearOrangeTomatoApplePearCucumberAppleBeetBeetCucumberCarrotAppleGrapePearBeetBeetAppleOrangePearTomatoPearGrapePearPearPearTomatoPearCucumberCeleryPearGrapeCucumberCarrotCarrotBeetPearGrapeCeleryCeleryCarrotApplePearCeleryOrangeBeetBeetOrangeGrapeOrangeCucumberCeleryPearGrapeBeetPearAppleOrangeGrapeCucumberTomatoOrangeCucumberCeleryTomatoPearGrapeTomatoCeleryCarrotAppleCucumberOrangeAppleOrangeBeetCeleryGrapeTomatoPearCucumberCucumberCarrotAppleCarrotCarrotPearCeleryApplePearApplePearCarrotApplePearBeetTomatoCarrotPearCucumberPearCucumberCucumberCucumberAppleCucumberBeetGrapeOrangeTomatoTomatoCarrotCucumberGrapeAppleAppleCarrotOrangeAppleCarrotGrapeBeetBeetCeleryPearCucumberOrangePearAppleTomatoTomatoCarrotCarrotPearCucumberPearPearPearGrapeCarrotAppleOrangeTomatoCucumberCarrotAppleAppleCucumberOrangeCeleryTomatoGrapeCucumberCeleryCarrotTomatoPearApplePearCarrotGrapeBeetTomatoCarrotAppleCeleryGrapePearCucumberPearPearAppleBeetCarrotOrangeTomatoOrangeAppleTomatoOrangeCucumberCucumberBeetOrangeBeetCucumberOrangeAppleGrapeBeetCeleryOrangeTomatoOrangeOrangePearAppleCarrotGrapePearGrapeAppleBeetTomatoTomatoCucumberOrangeOrangeAppleCarrotTomatoCeleryOrangeCucumberOrangeCucumberCeleryCeleryGrapePearOrangeBeetGrapeCucumberOrangeAppleCeleryTomatoBeetCucumberCarrotCeleryCarrotCucumberAppleGrapeGrapeCucumberAppleCeleryGrapeCarrotGrapeCarrotCarrotBeetCarrotTomatoBeetGrapeGrapeCarrotAppleCucumberGrapeGrapePearCarrotOrangeAppleTomatoAppleCeleryPearCucumberCucumberAppleBeetCucumberAppleGrapeTomatoPearCarrotBeetBeetGrapePearCucumberCucumberPearCucumberOrangeTomatoApplePearOrangeOrangeBeetBeetTomatoCucumberTomatoCucumberTomatoOrangeOrangeGrapeCucumberPearOrangeAppleCarrotCucumberCeleryPearPearCeleryAppleOrangeTomatoOrangePearCucumberBeetAppleCeleryTomatoCeleryCucumberOrangeAppleAppleAppleOrangeTomatoCucumberPearCarrotOrangeGrapeCeleryCucumberAppleCeleryGrapePearPearCarrotBeetOrangePearBeetPearCeleryCeleryOrangeApplePearApplePearCarrotCucumberBeetCarrotCucumberTomatoGrapeAppleOrangeGrapeOrangeApplePearCarrotCucumberCucumberCucumberPearCucumberGrapeCarrotBeetGrapeGrapeCucumberAppleCarrotAppleBeetTomatoOrangeGrapeOrangeCucumberGrapeTomatoGrapeGrapeGrapeCarrotCarrotCarrotOrangeCeleryOrangePearTomatoOrangeGrapeGrapeGrapeBeetGrapePearGrapeTomatoOrangeCeleryOrangePearCucumberOrangeBeetAppleCarrotCucumberApplePearAppleAppleTomatoGrapeOrangeCucumberAppleCarrotOrangeCarrotTomatoCucumberCarrotOrangeCarrotPearPearAppleCucumberOrangeGrapeOrangeBeetCarrotPearGrapeOrangeOrangeOrangeBeetTomatoPearGrapeOrangeGrapeCeleryPearGrapeCeleryTomatoCucumberGrapeOrangeAppleCeleryCucumberGrapeCeleryPearGrapeAppleBeetPearOrangeOrangeOrangeOrangeOrangeCarrotCeleryTomatoGrapeCucumberAppleCeleryCucumberCeleryCeleryPearAppleGrapeAppleGrapeGrapeCucumberCarrotBeetGrapeCarrotGrapeBeetCarrotGrapeOrangeGrapeCucumberAppleBeetTomatoBeetOrangeCarrotCucumberAppleTomatoGrapeCarrotPearAppleGrapeCeleryTomatoBeetGrapeCeleryTomatoAppleCucumberAppleCucumberCarrotPearAppleCucumberGrapeGrapeGrapeCucumberCeleryGrapeBeetTomatoGrapeTomatoTomatoAppleOrangeTomatoAppleAppleCarrotGrapeOrangeApplePearBeetGrapeTomatoAppleCarrotBeetTomatoBeetCucumberBeetTomatoOrangePearCarrotAppleOrangeBeetCarrotPearCucumberBeetTomatoGrapeGrapeOrangeAppleApplePearAppleCucumberOrangeCucumberPearOrangeCeleryCeleryCarrotCeleryAppleOrangeOrangeApplePearCucumberCeleryCarrotCucumberBeetApplePearAppleOrangePearGrapePearAppleAppleCarrotCucumberOrangeAppleAppleCarrotCeleryCeleryOrangeCeleryGrapeCucumberCeleryGrapeCeleryAppleCarrotCarrotGrapePearCeleryPearCeleryAppleTomatoCarrotAppleOrangeCarrotCucumberTomatoPearOrangeCarrotAppleCarrotCucumberGrapeBeetPearOrangeCarrotCucumberBeetAppleCeleryCarrotGrapeCarrotCarrotPearGrapePearCeleryPearOrangeCeleryAppleCarrotBeetCarrotOrangeCarrotCucumberCarrotCucumberOrangePearTomatoCeleryPearPearPearCarrotPearGrapeTomatoOrangeTomatoOrangeCeleryCucumberTomatoCucumberOrangeTomatoCeleryApplePearPearCucumberPearPearCeleryCucumberGrapeApplePearTomatoAppleCucumberPearPearCarrotCeleryCucumberOrangeTomatoPearOrangePearAppleCeleryCeleryCarrotCarrotCarrotPearOrangeGrapeTomatoCarrotTomatoBeetPearBeetBeetBeetTomatoCucumberPearGrapeCeleryBeetCarrotGrapeOrangeBeetCeleryGrapeCucumberGrapeCeleryCucumberBeetPearGrapePearAppleCeleryCarrotAppleCucumberOrangeAppleTomatoAppleCucumberTomatoTomatoCeleryGrapeAppleCeleryPearOrangeCucumberGrapeOrangeOrangeCucumberOrangePearOrangeGrapeCeleryPearCucumberCarrotGrapeOrangeOrangePearPearAppleCucumberAppleOrangeAppleOrangeCucumberCarrotCeleryAppleCeleryGrapeTomatoPearGrapePearBeetCarrotGrapeGrapeGrapeAppleBeetGrapeGrapeAppleGrapeOrangePearOrangeGrapeGrapePearTomatoOrangePearTomatoAppleCarrotAppleAppleBeetCeleryCeleryOrangeCucumberPearOrangeTomatoPearOrangeAppleCucumberAppleTomatoCucumberPearCucumberCeleryPearOrangeCucumberCarrotCucumberCarrotAppleBeetPearOrangeAppleAppleGrapeOrangeGrapeCeleryPearPearGrapeAppleTomatoPearOrangePearCeleryCucumberOrangeApplePearGrapeGrapeCeleryTomatoBeetGrapeGrapeOrangePearCarrotCeleryOrangeAppleAppleGrapeBeetCeleryCeleryOrangeAppleTomatoGrapePearCarrotApplePearCucumberAppleTomatoCucumberBeetCeleryCarrotGrapeCeleryCarrotOrangeCucumberApplePearAppleCeleryAppleGrapeOrangeGrapeCeleryOrangeOrangeCeleryGrapeCarrotCeleryAppleCucumberCeleryOrangeAppleAppleAppleCeleryPearPearTomatoTomatoCucumberCucumberCeleryCucumberGrapeOrangeCarrotOrangeAppleCucumberPearPearGrapeCarrotAppleCeleryOrangeOrangeOrangeCeleryGrapeGrapeOrangeCarrotCucumberCeleryAppleCeleryPearOrangePearCucumberBeetTomatoCucumberOrangeCarrotCeleryTomatoAppleCeleryCarrotTomatoCucumberAppleTomatoBeetAppleTomatoApplePearCarrotGrapeCucumberApplePearPearBeetCucumberCarrotOrangePearAppleCarrotGrapeAppleGrapeApplePearGrapeCarrotOrangeCeleryCucumberGrapeCucumberOrangeAppleTomatoCarrotCucumberCarrotCarrotAppleGrapeAppleGrapeOrangeGrapeCarrotOrangeGrapeTomatoPearGrapeTomatoCeleryCarrotGrapeAppleTomatoCarrotGrapeCeleryAppleCarrotCarrotBeetCarrotOrangeCucumberCarrotCucumberCarrotCucumberCucumberGrapeTomatoCarrotPearPearGrapeCarrotTomatoBeetCeleryCucumberOrangeCeleryCarrotPearCeleryCucumberOrangeTomatoPearCeleryAppleCarrotCeleryAppleOrangeOrangeOrangeCarrotGrapeOrangeBeetCucumberAppleGrapeCeleryTomatoGrapeBeetGrapeOrangePearAppleTomatoCucumberCucumberCeleryTomatoCarrotCarrotTomatoTomatoPearPearCarrotOrangeOrangeOrangePearOrangeGrapePearAppleCucumberAppleCarrotOrangeGrapePearBeetTomatoCarrotOrangeBeetCeleryGrapeCarrotCucumberCeleryOrangeBeetTomatoCucumberGrapeTomatoCeleryCarrotPearPearCarrotTomatoCucumberApplePearGrapeCeleryCucumberCarrotGrapePearAppleOrangeCucumberOrangePearPearOrangeCeleryGrapeGrapeCeleryCarrotOrangeOrangeGrapeBeetCeleryCarrotAppleCeleryPearOrangeBeetGrapeBeetCucumberCarrotCarrotTomatoCeleryOrangePearBeetOrangePearOrangeTomatoBeetOrangeCarrotAppleGrapeGrapeGrapeOrangeBeetBeetAppleGrapePearGrapeCucumberGrapeAppleGrapeBeetCarrotGrapeAppleApplePearAppleCeleryBeetCucumberOrangeBeetGrapeBeetPearGrapeCeleryCucumberOrangeBeetCarrotCarrotAppleCeleryOrangeGrapeCucumberCeleryPearCarrotCeleryCeleryGrapeBeetBeetCucumberOrangeCarrotOrangeCeleryCeleryBeetTomatoPearGrapeAppleBeetPearCarrotTomatoGrapeCucumberAppleCarrotCucumberBeetOrangeOrangeCeleryBeetCucumberGrapeCucumberPearBeetCucumberGrapeCeleryCarrotOrangeBeetCarrotPearCucumberOrangeOrangeCeleryCarrotCucumberOrangeCarrotOrangePearAppleBeetBeetAppleAppleCeleryCarrotCucumberCeleryCarrotPearCucumberPearAppleAppleCeleryOrangeCucumberPearCarrotCucumberPearOrangeGrapeAppleCarrotPearPearGrapeBeetApplePearOrangePearAppleCarrotCeleryCucumberOrangeOrangeAppleCarrotCucumberOrangeGrapePearPearGrapeTomatoTomatoOrangeOrangePearCarrotGrapePearOrangeBeetPearAppleGrapeAppleBeetAppleGrapeOrangeCeleryTomatoBeetCarrotTomatoCarrotPearCucumberAppleAppleCeleryTomatoBeetCarrotCarrotGrapePearTomatoGrapePearOrangeBeetTomatoAppleTomatoOrangeOrangePearOrangeBeetCucumberBeetOrangeOrangeCarrotOrangeOrangeCarrotGrapePearCeleryAppleCucumberOrangeAppleTomatoAppleTomatoApplePearAppleGrapeOrangeCarrotPearGrapePearBeetPearPearCucumberCucumberBeetOrangeCeleryCarrotGrapeCeleryAppleCucumberCarrotAppleCarrotPearOrangeTomatoAppleCarrotTomatoGrapeCarrotApplePearCeleryOrangePearCarrotPearPearBeetCucumberOrangeAppleTomatoCeleryOrangeCarrotCarrotCucumberOrangeCarrotOrangeCucumberPearGrapePearTomatoBeetCarrotAppleTomatoPearCucumberAppleTomatoGrapeAppleCeleryApplePearPearCeleryCucumberAppleBeetCucumberAppleCarrotAppleCucumberCucumberPearTomatoPearGrapeOrangeTomatoOrangePearPearPearCarrotCucumberCucumberCarrotCucumberCeleryGrapeAppleOrangeOrangeCeleryOrangePearBeetCeleryOrangeCucumberAppleOrangeTomatoCucumberGrapeCeleryCucumberGrapeApplePearPearCeleryCeleryPearOrangeGrapePearCarrotBeetCarrotAppleCarrotGrapeApplePearAppleOrangeGrapeApplePearCeleryCucumberCucumberCucumberCeleryGrapeBeetBeetBeetAppleOrangeCucumberGrapeCucumberCucumberPearOrangeOrangeAppleOrangeTomatoBeetTomatoCeleryOrangeBeetPearCucumberCeleryCarrotBeetTomatoOrangeCarrotAppleCucumberCucumberAppleCarrotPearCarrotGrapeAppleAppleGrapeOrangeBeetGrapeTomatoCarrotAppleCarrotPearGrapeCucumberGrapeOrangeCucumberAppleCucumberCarrotGrapeTomatoCeleryCucumberPearPearPearPearBeetBeetBeetOrangePearAppleBeetOrangeGrapeAppleCucumberCucumberAppleAppleBeetCarrotOrangeAppleCucumberAppleAppleTomatoBeetCarrotCucumberOrangePearBeetOrangeGrapeCeleryCucumberPearBeetOrangeOrangeCarrotOrangeTomatoOrangeGrapeGrapeAppleCeleryPearOrangeGrapePearCarrotBeetAppleAppleGrapeOrangeGrapeTomatoApplePearPearGrapeAppleGrapeBeetPearCucumberTomatoPearBeetCarrotCeleryCeleryCeleryCeleryAppleAppleCeleryOrangeOrangeOrangeBeetAppleCeleryCucumberAppleCeleryCeleryAppleTomatoGrapeApplePearPearPearTomatoBeetOrangeCeleryCucumberTomatoGrapeCeleryPearPearGrapeCucumberTomatoOrangeCucumberCarrotOrangeOrangeCarrotPearOrangeOrangeCarrotCarrotBeetGrapeOrangeAppleAppleCarrotGrapePearCucumberCarrotBeetPearOrangeCucumberGrapeCucumberCucumberAppleAppleCarrotCucumberPearCucumberOrangeCarrotApplePearOrangeCucumberOrangeAppleCarrotGrapeCeleryAppleGrapeAppleOrangeTomatoCarrotCarrotTomatoPearGrapeAppleCarrotTomatoOrangeCucumberOrangeBeetTomatoTomatoCucumberOrangeBeetGrapeGrapeAppleTomatoCucumberOrangeGrapeGrapeCarrotGrapeAppleAppleCucumberPearOrangeGrapeAppleCucumberCucumberPearCucumberCucumberGrapeGrapeAppleCucumberCeleryPearPearGrapeTomatoCeleryCeleryGrapePearCeleryAppleAppleCucumberAppleApplePearOrangeCarrotOrangeOrangeBeetGrapeCeleryCarrotOrangeAppleTomatoAppleAppleBeetPearPearOrangeGrapeTomatoPearBeetCeleryTomatoPearOrangeCeleryCeleryOrangeAppleBeetCarrotCarrotCucumberOrangeCucumberPearAppleAppleCucumberOrangePearCucumberCucumberAppleGrapeCucumberCarrotCucumberPearCarrotOrangeCarrotOrangeOrangeTomatoOrangeGrapeBeetCucumberPearCeleryOrangeAppleBeetAppleApplePearGrapeBeetCarrotAppleTomatoAppleGrapeCucumberTomatoCeleryTomatoOrangeGrapeOrangeGrapeAppleBeetPearBeetCarrotCucumberCucumberPearCeleryCeleryBeetAppleCucumberGrapeCarrotCucumberCucumberGrapeOrangeOrangeCucumberPearCarrotAppleCucumberOrangePearCucumberCarrotGrapeTomatoGrapeCarrotGrapeCucumberAppleCarrotCeleryGrapeOrangeCarrotPearApplePearOrangeCarrotAppleGrapeTomatoBeetOrangeOrangeCarrotGrapeGrapePearTomatoCeleryPearAppleCucumberGrapeOrangeAppleAppleOrangeCeleryGrapeGrapeCarrotGrapePearGrapeTomatoCarrotAppleCarrotCarrotOrangeCarrotBeetTomatoCarrotPearCucumberOrangeAppleOrangePearPearBeetPearGrapeCeleryOrangeGrapeAppleGrapeCucumberCeleryCarrotTomatoCarrotGrapeOrangeGrapeBeetGrapeCeleryCucumberCarrotCucumberCucumberBeetCucumberPearBeetBeetPearAppleCarrotCucumberOrangePearOrangeGrapeTomatoCucumberPearGrapeGrapeTomatoTomatoAppleCeleryCucumberOrangeBeetBeetPearGrapeTomatoBeetOrangeCarrotCucumberGrapeCucumberBeetCucumberPearPearCeleryOrangeAppleGrapePearAppleCarrotCarrotPearCucumberCarrotAppleCarrotCarrotCeleryCucumberAppleBeetTomatoCucumberTomatoOrangeCarrotBeetGrapePearGrapeAppleCarrotCarrotCarrotAppleTomatoCarrotGrapeOrangeCarrotBeetCeleryCucumberApplePearGrapeCarrotCarrotGrapeCeleryCucumberCeleryCucumberPearCucumberOrangeGrapeBeetAppleOrangeGrapeTomatoAppleOrangeCarrotGrapeCarrotGrapeCucumberCucumberTomatoCucumberCarrotPearPearCucumberCarrotCarrotPearAppleCarrotApplePearBeetApplePearAppleBeetAppleCucumberBeetOrangeCucumberCucumberCucumberTomatoAppleGrapeBeetCarrotPearPearTomatoTomatoTomatoOrangeCeleryCucumberCucumberGrapeCarrotCarrotCucumberOrangeCarrotBeetOrangeBeetCucumberPearCucumberPearAppleCeleryTomatoAppleTomatoCeleryCarrotGrapeCarrotCucumberGrapeOrangeAppleCucumberGrapeOrangeGrapePearAppleCeleryCeleryCucumberAppleCeleryOrangeOrangeOrangeOrangeGrapeCeleryPearCucumberTomatoPearBeetAppleCarrotCucumberBeetCarrotCucumberGrapeGrapeOrangeBeetBeetGrapeOrangeTomatoCeleryCucumberTomatoOrangeAppleCucumberCucumberApplePearCucumberGrapeAppleCeleryOrangePearPearCucumberOrangeOrangeGrapeAppleCarrotPearCarrotCeleryAppleTomatoOrangeGrapeBeetOrangeAppleGrapeGrapeOrangeCarrotCucumberOrangeGrapeGrapeGrapeBeetCarrotPearOrangeCeleryAppleAppleTomatoAppleBeetPearCucumberBeetOrangeCarrotOrangeBeetPearPearAppleCucumberOrangeCarrotOrangeTomatoGrapeAppleGrapeBeetCeleryAppleCucumberOrangeApplePearBeetBeetCeleryApplePearCeleryOrangeAppleCarrotPearCucumberGrapeCucumberPearCarrotCeleryTomatoOrangeAppleOrangeAppleCucumberCarrotCarrotCucumberBeetCucumberCarrotBeetGrapeGrapeCarrotCeleryGrapeTomatoOrangeCarrotCucumberCeleryPearCarrotGrapeApplePearAppleApplePearTomatoCucumberOrangeOrangeCeleryPearCeleryPearPearGrapeGrapeGrapeBeetApplePearTomatoCucumberPearPearPearPearGrapeCarrotCucumberCarrotAppleOrangeCeleryCucumberCucumberAppleGrapeOrangeCucumberCucumberGrapeCucumberBeetGrapePearPearAppleCeleryCeleryAppleCeleryPearGrapePearBeetCarrotOrangeCeleryCarrotPearCeleryAppleBeetOrangeGrapePearPearPearAppleBeetCarrotOrangeCeleryCucumberPearOrangeCeleryCucumberBeetGrapeGrapePearPearGrapeGrapeCucumberOrangeCucumberOrangeOrangeCucumberCeleryTomatoPearCucumberCeleryTomatoPearGrapePearApplePearOrangeTomatoPearOrangeBeetOrangeCarrotOrangeOrangeAppleBeetPearCarrotOrangeGrapePearPearBeetBeetPearApplePearAppleGrapeTomatoCeleryBeetPearOrangeGrapeCarrotOrangeCarrotCeleryBeetCarrotGrapeCarrotCeleryBeetCarrotPearGrapePearCucumberOrangeGrapeOrangeGrapeOrangeBeetOrangeGrapeOrangeGrapeAppleCarrotPearCarrotOrangeCarrotOrangeOrangePearPearPearGrapeCarrotCeleryCucumberCucumberCucumberPearPearCarrotCarrotCucumberCucumberGrapeCeleryAppleOrangePearCucumberBeetCarrotOrangeCucumberCucumberCucumberCarrotCeleryOrangeCarrotGrapeGrapeBeetTomatoAppleOrangeAppleCarrotPearGrapeCarrotGrapeOrangeOrangeOrangeAppleCarrotTomatoCarrotAppleAppleAppleCeleryPearGrapePearCucumberPearCeleryPearCeleryGrapeGrapeApplePearCeleryTomatoBeetOrangeBeetPearCucumberCucumberTomatoTomatoCucumberTomatoBeetTomatoApplePearCarrotOrangeAppleCucumberPearOrangePearAppleGrapeCucumberCeleryCarrotPearPearOrangeCucumberOrangeCucumberCucumberCeleryGrapeCucumberPearOrangeBeetAppleGrapeOrangeCarrotTomatoPearTomatoOrangeOrangeCucumberTomatoOrangeGrapeOrangeCeleryTomatoAppleBeetAppleCucumberCeleryTomatoOrangeCucumberCarrotPearOrangeCucumberOrangeCarrotOrangeGrapePearOrangeCeleryCucumberTomatoTomatoCucumberOrangeCucumberGrapeCeleryCeleryAppleCarrotOrangeTomatoAppleCarrotCucumberPearAppleCeleryPearOrangeCucumberCarrotOrangeCarrotGrapeAppleOrangeCeleryBeetTomatoOrangeCeleryGrapeBeetCeleryGrapeTomatoCucumberBeetCucumberCucumberCeleryPearAppleApplePearAppleCarrotPearOrangeCarrotOrangePearAppleGrapeAppleOrangeOrangePearGrapePearCarrotOrangeCeleryCarrotCucumberOrangeOrangeCucumberAppleOrangeCarrotOrangeCeleryCarrotOrangePearAppleCucumberPearOrangeGrapeCeleryCeleryCucumberCucumberCucumberBeetPearOrangeCeleryCeleryAppleGrapePearGrapePearCarrotGrapeCeleryOrangeCucumberCucumberPearCucumberBeetCarrotAppleOrangeOrangeCarrotOrangePearBeetCeleryOrangeGrapeCucumberAppleCeleryCeleryCarrotCeleryCucumberCucumberGrapeCarrotAppleAppleCeleryCucumberCarrotOrangeOrangeTomatoTomatoBeetGrapeCeleryCucumberBeetAppleGrapeCeleryCarrotGrapePearGrapeOrangeCucumberCarrotGrapeOrangePearBeetCeleryBeetBeetOrangeBeetCeleryPearCucumberGrapeOrangeBeetOrangeOrangeCeleryCucumberPearCucumberGrapeCeleryPearCeleryGrapeCeleryOrangeGrapeCucumberBeetGrapeCucumberBeetCarrotPearCarrotCucumberApplePearGrapeCarrotTomatoOrangeGrapeCeleryCeleryCeleryCarrotCeleryCucumberGrapeApplePearGrapeAppleCeleryGrapeOrangeBeetOrangeBeetBeetBeetCucumberPearCarrotCeleryCucumberAppleAppleOrangeBeetCarrotOrangeCarrotCarrotCucumberPearOrangeCucumberGrapeAppleCeleryCeleryCeleryCarrotCucumberOrangeBeetOrangeCarrotBeetApplePearOrangeCucumberOrangeAppleCucumberCeleryOrangeCeleryCucumberCarrotCeleryCucumberCarrotCeleryOrangeCarrotOrangeCeleryOrangeAppleTomatoOrangeAppleOrangeOrangePearBeetCarrotPearGrapeOrangeAppleCucumberCucumberTomatoCucumberCeleryOrangeOrangePearAppleCarrotGrapeBeetAppleOrangeApplePearCucumberTomatoPearCarrotCarrotAppleCarrotPearTomatoGrapeCucumberOrangePearTomatoBeetCucumberAppleCucumberCarrotOrangeCeleryAppleBeetPearGrapeCarrotAppleCucumberBeetCarrotAppleCucumberGrapeBeetTomatoCucumberBeetTomatoCeleryTomatoBeetOrangeCucumberAppleCeleryCarrotGrapeOrangeCeleryCarrotCarrotOrangeCucumberOrangeAppleGrapeTomatoPearCarrotPearApplePearGrapeCucumberTomatoOrangeBeetBeetGrapeCarrotOrangeOrangeGrapeApplePearAppleTomatoCucumberOrangeOrangePearCarrotCarrotCeleryCarrotCarrotGrapeTomatoPearCeleryCarrotGrapePearCeleryOrangePearOrangeBeetCeleryBeetAppleCucumberGrapeGrapeCarrotBeetOrangeGrapeCucumberGrapeCeleryOrangeTomatoCucumberCarrotBeetPearCucumberPearCucumberCeleryTomatoAppleGrapeAppleOrangeOrangePearGrapeCeleryCarrotCarrotGrapeOrangePearGrapeCarrotAppleBeetOrangeGrapeBeetPearTomatoCeleryAppleAppleAppleCarrotOrangeCeleryAppleCeleryPearTomatoCucumberOrangeCarrotCucumberCarrotAppleAppleGrapeOrangeOrangeGrapeCarrotPearOrangeOrangeAppleCarrotOrangeAppleBeetCeleryCeleryPearGrapeGrapeGrapeTomatoCarrotAppleOrangeAppleOrangeApplePearGrapeCucumberAppleCeleryOrangeOrangeCeleryAppleGrapeOrangeCucumberOrangePearOrangeAppleTomatoOrangePearOrangeCucumberAppleCarrotGrapeCeleryCeleryAppleGrapeBeetCucumberOrangeOrangePearPearAppleCeleryGrapeTomatoPearOrangeOrangeTomatoGrapePearCeleryCarrotCeleryCeleryCeleryAppleOrangeTomatoAppleCucumberCeleryCucumberCarrotCeleryPearOrangeBeetCucumberGrapePearPearGrapeOrangePearTomatoTomatoGrapePearPearCarrotCucumberOrangeCucumberPearPearApplePearCarrotGrapePearCucumberGrapeCeleryCarrotCeleryPearCucumberAppleTomatoGrapeCeleryBeetTomatoAppleOrangeTomatoApplePearOrangeCarrotOrangeAppleTomatoAppleCucumberCarrotCeleryCarrotCeleryCucumberCucumberBeetAppleGrapeOrangeCucumberBeetCeleryCucumberCarrotTomatoCarrotCarrotCarrotBeetPearOrangeGrapeCeleryPearPearCucumberCarrotCucumberAppleOrangeCeleryPearGrapeOrangeCucumberBeetOrangeCarrotGrapeOrangeCeleryAppleTomatoCucumberCucumberPearOrangeCarrotTomatoCucumberOrangePearCeleryAppleCeleryAppleGrapeCucumberCeleryCucumberOrangeCarrotTomatoOrangeBeetGrapePearGrapeAppleAppleAppleAppleBeetPearBeetCarrotOrangeGrapeBeetAppleAppleBeetCeleryCarrotBeetPearGrapeBeetOrangeTomatoOrangeOrangeAppleCarrotOrangeCarrotAppleOrangeOrangeCarrotAppleCarrotPearPearTomatoOrangeAppleOrangeAppleOrangePearCucumberCarrotOrangeAppleCarrotPearCucumberTomatoGrapeCucumberCarrotOrangeApplePearCarrotAppleOrangeTomatoCeleryBeetPearOrangeOrangeGrapeBeetGrapeBeetCarrotAppleOrangeCarrotCarrotOrangeAppleCarrotBeetCarrotAppleCarrotPearCarrotPearCarrotPearOrangeGrapeOrangePearPearBeetCarrotPearOrangeCucumberTomatoTomatoCeleryCarrotBeetCeleryGrapeBeetGrapeCeleryPearOrangeAppleOrangeOrangeTomatoCucumberOrangeOrangeOrangeOrangeBeetBeetCeleryGrapeCarrotOrangePearAppleGrapeCucumberAppleGrapeAppleCarrotCarrotPearBeetGrapeOrangeCarrotAppleTomatoAppleOrangeGrapeCeleryCeleryPearTomatoOrangeCucumberCarrotCeleryOrangeAppleCarrotOrangeCucumberAppleOrangeGrapePearOrangeBeetCeleryOrangeGrapeGrapeOrangeOrangeCeleryOrangeBeetGrapeOrangeBeetBeetOrangeCarrotPearOrangePearOrangeCeleryCeleryPearCucumberTomatoPearPearCucumberCucumberCucumberOrangeCarrotBeetGrapeOrangeCeleryAppleTomatoAppleAppleCucumberCeleryOrangeCeleryCucumberOrangeCeleryAppleOrangeCeleryPearCarrotCeleryTomatoCarrotBeetCeleryCucumberCeleryCeleryCucumberCarrotTomatoCeleryCucumberOrangeTomatoOrangeGrapeCarrotCucumberCeleryCucumberCucumberTomatoApplePearCucumberGrapeCeleryTomatoCeleryPearTomatoOrangePearCeleryCeleryOrangeOrangeCucumberApplePearOrangeCeleryCucumberAppleGrapeOrangePearCucumberBeetBeetBeetPearBeetBeetAppleGrapeOrangeCarrotOrangeGrapePearGrapeApplePearAppleTomatoOrangeAppleOrangePearCarrotOrangeCeleryOrangeCeleryPearCucumberPearCarrotPearCucumberOrangeOrangeGrapeOrangeCeleryBeetAppleCarrotOrangeTomatoCucumberOrangeCeleryGrapeCucumberGrapePearCeleryCeleryGrapePearTomatoTomatoCarrotOrangePearBeetGrapePearGrapeCeleryTomatoPearCucumberCeleryOrangeTomatoCarrotCucumberCucumberCeleryPearGrapeAppleCarrotOrangePearPearGrapeCucumberOrangePearOrangeAppleCarrotGrapeGrapeOrangeOrangeCucumberCeleryTomatoOrangeCarrotCucumberCarrotPearCeleryBeetOrangePearCeleryGrapePearCeleryCarrotBeetTomatoCucumberBeetPearPearAppleAppleCeleryAppleAppleGrapeCucumberAppleCucumberGrapeCucumberGrapePearAppleCucumberPearCucumberGrapeCucumberAppleCarrotOrangeOrangeCucumberTomatoBeetTomatoAppleCucumberCarrotOrangeAppleApplePearPearAppleGrapeOrangeCucumberAppleCucumberCeleryCucumberCarrotPearCeleryOrangeGrapeOrangeOrangeCeleryCucumberOrangeOrangeTomatoPearCucumberCeleryAppleTomatoOrangePearGrapeGrapeGrapeBeetGrapeGrapeOrangeGrapeCarrotTomatoAppleOrangeCeleryCeleryPearGrapeOrangePearPearTomatoPearCucumberPearCucumberGrapeGrapeAppleAppleCucumberPearCeleryAppleCucumberCeleryOrangeCucumberCucumberCarrotCucumberTomatoBeetOrangeCeleryPearCeleryPearAppleOrangeOrangeAppleOrangeOrangeGrapeBeetBeetCeleryCarrotOrangeOrangeAppleBeetAppleCarrotCarrotTomatoBeetCeleryOrangeOrangeCucumberGrapeCarrotOrangeOrangeOrangeCeleryPearOrangeApplePearTomatoCeleryCarrotAppleOrangeOrangeOrangeOrangeOrangeCucumberOrangeGrapeCarrotBeetTomatoGrapePearAppleBeetCarrotCucumberGrapeOrangeCarrotPearCucumberCeleryAppleBeetOrangeOrangeOrangeOrangePearCeleryOrangePearPearCucumberCeleryCarrotCucumberCeleryCucumberPearAppleCucumberCarrotOrangeTomatoAppleGrapeOrangePearCarrotAppleApplePearCeleryTomatoPearCucumberAppleGrapeCeleryCarrotTomatoAppleCeleryCeleryGrapeCucumberCeleryCucumberCarrotPearOrangeGrapeCucumberCucumberBeetCucumberPearPearCucumberOrangePearAppleCarrotCucumberGrapeOrangeTomatoGrapeOrangeAppleCeleryGrapeBeetCarrotOrangeGrapeAppleCeleryPearTomatoCeleryOrangeAppleCeleryAppleCucumberCarrotBeetOrangeOrangeTomatoCarrotCarrotBeetCucumberCucumberOrangeOrangeGrapeOrangeCucumberCeleryPearOrangeGrapeCucumberOrangeOrangeCeleryAppleCarrotCeleryCucumberTomatoAppleCarrotAppleCucumberTomatoAppleGrapeTomatoGrapeCucumberOrangeOrangeCeleryBeetGrapeAppleOrangeAppleCucumberGrapePearBeetOrangeCeleryCeleryCarrotCeleryCeleryBeetCucumberBeetAppleCucumberOrangeCucumberCarrotTomatoCeleryCucumberGrapePearGrapeCarrotTomatoApplePearCeleryCeleryBeetGrapePearAppleCucumberCeleryAppleCarrotCucumberOrangePearCarrotPearGrapeOrangeBeetCucumberCeleryGrapeGrapeGrapePearCucumberPearOrangeGrapeCarrotAppleGrapeBeetOrangeAppleOrangeAppleCarrotCeleryGrapeApplePearPearAppleGrapeAppleCarrotPearPearTomatoAppleOrangeOrangeCucumberCeleryBeetCucumberOrangeGrapeCarrotOrangeCarrotGrapeCeleryTomatoPearGrapeCucumberPearCeleryOrangeCarrotCarrotBeetCucumberPearCeleryCeleryCeleryOrangeCeleryOrangeTomatoPearCarrotPearTomatoCucumberAppleOrangeCucumberOrangeGrapeCucumberBeetPearCeleryCarrotAppleBeetCarrotCucumberCucumberPearBeetCeleryBeetOrangeCarrotPearAppleApplePearCeleryPearOrangeGrapeTomatoOrangeCucumberPearAppleGrapeCeleryTomatoGrapeCarrotPearOrangeCeleryPearOrangeGrapeCucumberAppleTomatoCucumberOrangePearOrangeGrapeCucumberOrangeGrapeCarrotPearOrangeCarrotCarrotCucumberOrangeCarrotApplePearBeetPearOrangeOrangeCeleryAppleOrangeApplePearBeetCeleryCeleryOrangeOrangeOrangeCucumberCeleryCucumberPearTomatoTomatoCucumberPearCeleryPearTomatoGrapeCucumberCucumberCeleryCeleryCarrotCarrotCeleryAppleCeleryPearCarrotCeleryPearCucumberBeetOrangeCucumberAppleTomatoOrangeGrapeOrangeCeleryCeleryOrangeCucumberCeleryTomatoAppleCucumberCarrotCucumberPearPearAppleOrangeCeleryCucumberCeleryApplePearCeleryCucumberBeetOrangeAppleCucumberCarrotGrapeCarrotGrapeBeetPearCucumberGrapeGrapeOrangeCarrotPearCeleryCarrotCarrotOrangePearGrapeOrangeGrapeTomatoCucumberOrangeOrangeOrangeCeleryCarrotCarrotTomatoCucumberOrangeCarrotGrapeOrangeCucumberPearCeleryAppleCeleryApplePearAppleOrangeGrapeCarrotOrangeCarrotGrapeCarrotCucumberPearCarrotAppleOrangeCarrotCeleryOrangeAppleAppleCeleryOrangeAppleCucumberCarrotBeetPearCarrotGrapeCarrotCucumberCarrotCarrotGrapeOrangePearGrapeCucumberAppleCucumberBeetOrangeCeleryCarrotBeetCarrotCarrotGrapeApplePearOrangeAppleBeetOrangeCucumberOrangeBeetOrangeCucumberPearCarrotBeetTomatoTomatoOrangeCarrotOrangeBeetCucumberAppleCarrotOrangePearPearPearGrapeCeleryOrangeOrangeGrapeOrangeAppleTomatoTomatoAppleOrangeCeleryOrangeCarrotCarrotAppleTomatoCucumberTomatoOrangeCeleryTomatoAppleOrangePearAppleOrangeGrapeGrapeCarrotOrangePearBeetCarrotCeleryCarrotAppleCeleryCeleryGrapeBeetPearCeleryCucumberCarrotGrapeGrapeCarrotAppleCucumberAppleCucumberOrangeOrangePearCucumberTomatoPearCarrotPearCeleryApplePearCucumberGrapeTomatoAppleCeleryOrangeCucumberCeleryCarrotOrangeCeleryBeetCeleryOrangeOrangeOrangeAppleCucumberPearBeetGrapeCeleryAppleCarrotCeleryGrapeCarrotCucumberPearCarrotOrangeAppleBeetOrangeCeleryPearCeleryCucumberBeetGrapeAppleTomatoPearBeetCeleryCarrotAppleCucumberOrangeTomatoAppleCucumberGrapeAppleOrangeAppleAppleGrapeCucumberTomatoCucumberOrangeTomatoCarrotCarrotCeleryPearPearOrangeCucumberGrapeCeleryTomatoGrapeAppleOrangePearCucumberAppleTomatoPearCarrotTomatoCeleryGrapeCucumberOrangePearCucumberGrapePearAppleGrapeOrangeOrangeCeleryCeleryOrangeCarrotPearOrangeOrangeCarrotOrangeCarrotPearCucumberBeetCarrotGrapePearAppleGrapeOrangeAppleApplePearCeleryAppleOrangeCarrotCarrotOrangeBeetTomatoCeleryCarrotAppleOrangeTomatoAppleOrangeCeleryPearOrangeGrapeBeetCarrotBeetOrangeApplePearCeleryOrangeGrapeAppleOrangeAppleCucumberPearCucumberTomatoOrangeBeetTomatoOrangeCucumberPearCeleryOrangeGrapeBeetCeleryCarrotCucumberTomatoAppleCucumberPearCarrotOrangePearOrangePearGrapeCeleryCarrotCarrotCarrotTomatoCarrotGrapeTomatoAppleAppleCarrotCeleryApplePearOrangeTomatoPearBeetAppleBeetOrangeCarrotTomatoCucumberPearOrangePearCeleryPearTomatoPearGrapeCarrotOrangeGrapeAppleApplePearCucumberAppleCarrotPearOrangeCarrotGrapeBeetApplePearOrangeBeetAppleCeleryOrangeGrapeCeleryGrapeCeleryCarrotCarrotAppleOrangeCucumberOrangeCarrotOrangeAppleCarrotCucumberApplePearTomatoBeetCucumberGrapePear'"
            ],
            "application/vnd.google.colaboratory.intrinsic+json": {
              "type": "string"
            }
          },
          "metadata": {},
          "execution_count": 33
        }
      ]
    },
    {
      "cell_type": "code",
      "source": [
        "attrition = pd.read_csv('https://github.com/atonui/pds/blob/main/Employee-Attritionv1.csv?raw=true')\n",
        "attrition.head()"
      ],
      "metadata": {
        "id": "xNdoAjBxvduJ",
        "colab": {
          "base_uri": "https://localhost:8080/",
          "height": 369
        },
        "outputId": "e8ab1b1a-d584-4648-a903-7f37b1647383"
      },
      "execution_count": null,
      "outputs": [
        {
          "output_type": "execute_result",
          "data": {
            "text/plain": [
              "   Age Attrition     BusinessTravel  DailyRate              Department  \\\n",
              "0   41       Yes      Travel_Rarely       1102                   Sales   \n",
              "1   49        No  Travel_Frequently        279  Research & Development   \n",
              "2   37       Yes      Travel_Rarely       1373  Research & Development   \n",
              "3   33        No  Travel_Frequently       1392  Research & Development   \n",
              "4   27        No      Travel_Rarely        591  Research & Development   \n",
              "\n",
              "   DistanceFromHome  Education EducationField  EmployeeCount  EmployeeNumber  \\\n",
              "0                 1          2  Life Sciences              1               1   \n",
              "1                 8          1  Life Sciences              1               2   \n",
              "2                 2          2          Other              1               4   \n",
              "3                 3          4  Life Sciences              1               5   \n",
              "4                 2          1        Medical              1               7   \n",
              "\n",
              "   ...  RelationshipSatisfaction StandardHours  StockOptionLevel  \\\n",
              "0  ...                         1            80                 0   \n",
              "1  ...                         4            80                 1   \n",
              "2  ...                         2            80                 0   \n",
              "3  ...                         3            80                 0   \n",
              "4  ...                         4            80                 1   \n",
              "\n",
              "   TotalWorkingYears  TrainingTimesLastYear WorkLifeBalance  YearsAtCompany  \\\n",
              "0                  8                      0               1               6   \n",
              "1                 10                      3               3              10   \n",
              "2                  7                      3               3               0   \n",
              "3                  8                      3               3               8   \n",
              "4                  6                      3               3               2   \n",
              "\n",
              "  YearsInCurrentRole  YearsSinceLastPromotion  YearsWithCurrManager  \n",
              "0                  4                        0                     5  \n",
              "1                  7                        1                     7  \n",
              "2                  0                        0                     0  \n",
              "3                  7                        3                     0  \n",
              "4                  2                        2                     2  \n",
              "\n",
              "[5 rows x 35 columns]"
            ],
            "text/html": [
              "\n",
              "  <div id=\"df-d1309f32-9759-4a0d-a259-c032babdfdaa\">\n",
              "    <div class=\"colab-df-container\">\n",
              "      <div>\n",
              "<style scoped>\n",
              "    .dataframe tbody tr th:only-of-type {\n",
              "        vertical-align: middle;\n",
              "    }\n",
              "\n",
              "    .dataframe tbody tr th {\n",
              "        vertical-align: top;\n",
              "    }\n",
              "\n",
              "    .dataframe thead th {\n",
              "        text-align: right;\n",
              "    }\n",
              "</style>\n",
              "<table border=\"1\" class=\"dataframe\">\n",
              "  <thead>\n",
              "    <tr style=\"text-align: right;\">\n",
              "      <th></th>\n",
              "      <th>Age</th>\n",
              "      <th>Attrition</th>\n",
              "      <th>BusinessTravel</th>\n",
              "      <th>DailyRate</th>\n",
              "      <th>Department</th>\n",
              "      <th>DistanceFromHome</th>\n",
              "      <th>Education</th>\n",
              "      <th>EducationField</th>\n",
              "      <th>EmployeeCount</th>\n",
              "      <th>EmployeeNumber</th>\n",
              "      <th>...</th>\n",
              "      <th>RelationshipSatisfaction</th>\n",
              "      <th>StandardHours</th>\n",
              "      <th>StockOptionLevel</th>\n",
              "      <th>TotalWorkingYears</th>\n",
              "      <th>TrainingTimesLastYear</th>\n",
              "      <th>WorkLifeBalance</th>\n",
              "      <th>YearsAtCompany</th>\n",
              "      <th>YearsInCurrentRole</th>\n",
              "      <th>YearsSinceLastPromotion</th>\n",
              "      <th>YearsWithCurrManager</th>\n",
              "    </tr>\n",
              "  </thead>\n",
              "  <tbody>\n",
              "    <tr>\n",
              "      <th>0</th>\n",
              "      <td>41</td>\n",
              "      <td>Yes</td>\n",
              "      <td>Travel_Rarely</td>\n",
              "      <td>1102</td>\n",
              "      <td>Sales</td>\n",
              "      <td>1</td>\n",
              "      <td>2</td>\n",
              "      <td>Life Sciences</td>\n",
              "      <td>1</td>\n",
              "      <td>1</td>\n",
              "      <td>...</td>\n",
              "      <td>1</td>\n",
              "      <td>80</td>\n",
              "      <td>0</td>\n",
              "      <td>8</td>\n",
              "      <td>0</td>\n",
              "      <td>1</td>\n",
              "      <td>6</td>\n",
              "      <td>4</td>\n",
              "      <td>0</td>\n",
              "      <td>5</td>\n",
              "    </tr>\n",
              "    <tr>\n",
              "      <th>1</th>\n",
              "      <td>49</td>\n",
              "      <td>No</td>\n",
              "      <td>Travel_Frequently</td>\n",
              "      <td>279</td>\n",
              "      <td>Research &amp; Development</td>\n",
              "      <td>8</td>\n",
              "      <td>1</td>\n",
              "      <td>Life Sciences</td>\n",
              "      <td>1</td>\n",
              "      <td>2</td>\n",
              "      <td>...</td>\n",
              "      <td>4</td>\n",
              "      <td>80</td>\n",
              "      <td>1</td>\n",
              "      <td>10</td>\n",
              "      <td>3</td>\n",
              "      <td>3</td>\n",
              "      <td>10</td>\n",
              "      <td>7</td>\n",
              "      <td>1</td>\n",
              "      <td>7</td>\n",
              "    </tr>\n",
              "    <tr>\n",
              "      <th>2</th>\n",
              "      <td>37</td>\n",
              "      <td>Yes</td>\n",
              "      <td>Travel_Rarely</td>\n",
              "      <td>1373</td>\n",
              "      <td>Research &amp; Development</td>\n",
              "      <td>2</td>\n",
              "      <td>2</td>\n",
              "      <td>Other</td>\n",
              "      <td>1</td>\n",
              "      <td>4</td>\n",
              "      <td>...</td>\n",
              "      <td>2</td>\n",
              "      <td>80</td>\n",
              "      <td>0</td>\n",
              "      <td>7</td>\n",
              "      <td>3</td>\n",
              "      <td>3</td>\n",
              "      <td>0</td>\n",
              "      <td>0</td>\n",
              "      <td>0</td>\n",
              "      <td>0</td>\n",
              "    </tr>\n",
              "    <tr>\n",
              "      <th>3</th>\n",
              "      <td>33</td>\n",
              "      <td>No</td>\n",
              "      <td>Travel_Frequently</td>\n",
              "      <td>1392</td>\n",
              "      <td>Research &amp; Development</td>\n",
              "      <td>3</td>\n",
              "      <td>4</td>\n",
              "      <td>Life Sciences</td>\n",
              "      <td>1</td>\n",
              "      <td>5</td>\n",
              "      <td>...</td>\n",
              "      <td>3</td>\n",
              "      <td>80</td>\n",
              "      <td>0</td>\n",
              "      <td>8</td>\n",
              "      <td>3</td>\n",
              "      <td>3</td>\n",
              "      <td>8</td>\n",
              "      <td>7</td>\n",
              "      <td>3</td>\n",
              "      <td>0</td>\n",
              "    </tr>\n",
              "    <tr>\n",
              "      <th>4</th>\n",
              "      <td>27</td>\n",
              "      <td>No</td>\n",
              "      <td>Travel_Rarely</td>\n",
              "      <td>591</td>\n",
              "      <td>Research &amp; Development</td>\n",
              "      <td>2</td>\n",
              "      <td>1</td>\n",
              "      <td>Medical</td>\n",
              "      <td>1</td>\n",
              "      <td>7</td>\n",
              "      <td>...</td>\n",
              "      <td>4</td>\n",
              "      <td>80</td>\n",
              "      <td>1</td>\n",
              "      <td>6</td>\n",
              "      <td>3</td>\n",
              "      <td>3</td>\n",
              "      <td>2</td>\n",
              "      <td>2</td>\n",
              "      <td>2</td>\n",
              "      <td>2</td>\n",
              "    </tr>\n",
              "  </tbody>\n",
              "</table>\n",
              "<p>5 rows × 35 columns</p>\n",
              "</div>\n",
              "      <button class=\"colab-df-convert\" onclick=\"convertToInteractive('df-d1309f32-9759-4a0d-a259-c032babdfdaa')\"\n",
              "              title=\"Convert this dataframe to an interactive table.\"\n",
              "              style=\"display:none;\">\n",
              "        \n",
              "  <svg xmlns=\"http://www.w3.org/2000/svg\" height=\"24px\"viewBox=\"0 0 24 24\"\n",
              "       width=\"24px\">\n",
              "    <path d=\"M0 0h24v24H0V0z\" fill=\"none\"/>\n",
              "    <path d=\"M18.56 5.44l.94 2.06.94-2.06 2.06-.94-2.06-.94-.94-2.06-.94 2.06-2.06.94zm-11 1L8.5 8.5l.94-2.06 2.06-.94-2.06-.94L8.5 2.5l-.94 2.06-2.06.94zm10 10l.94 2.06.94-2.06 2.06-.94-2.06-.94-.94-2.06-.94 2.06-2.06.94z\"/><path d=\"M17.41 7.96l-1.37-1.37c-.4-.4-.92-.59-1.43-.59-.52 0-1.04.2-1.43.59L10.3 9.45l-7.72 7.72c-.78.78-.78 2.05 0 2.83L4 21.41c.39.39.9.59 1.41.59.51 0 1.02-.2 1.41-.59l7.78-7.78 2.81-2.81c.8-.78.8-2.07 0-2.86zM5.41 20L4 18.59l7.72-7.72 1.47 1.35L5.41 20z\"/>\n",
              "  </svg>\n",
              "      </button>\n",
              "      \n",
              "  <style>\n",
              "    .colab-df-container {\n",
              "      display:flex;\n",
              "      flex-wrap:wrap;\n",
              "      gap: 12px;\n",
              "    }\n",
              "\n",
              "    .colab-df-convert {\n",
              "      background-color: #E8F0FE;\n",
              "      border: none;\n",
              "      border-radius: 50%;\n",
              "      cursor: pointer;\n",
              "      display: none;\n",
              "      fill: #1967D2;\n",
              "      height: 32px;\n",
              "      padding: 0 0 0 0;\n",
              "      width: 32px;\n",
              "    }\n",
              "\n",
              "    .colab-df-convert:hover {\n",
              "      background-color: #E2EBFA;\n",
              "      box-shadow: 0px 1px 2px rgba(60, 64, 67, 0.3), 0px 1px 3px 1px rgba(60, 64, 67, 0.15);\n",
              "      fill: #174EA6;\n",
              "    }\n",
              "\n",
              "    [theme=dark] .colab-df-convert {\n",
              "      background-color: #3B4455;\n",
              "      fill: #D2E3FC;\n",
              "    }\n",
              "\n",
              "    [theme=dark] .colab-df-convert:hover {\n",
              "      background-color: #434B5C;\n",
              "      box-shadow: 0px 1px 3px 1px rgba(0, 0, 0, 0.15);\n",
              "      filter: drop-shadow(0px 1px 2px rgba(0, 0, 0, 0.3));\n",
              "      fill: #FFFFFF;\n",
              "    }\n",
              "  </style>\n",
              "\n",
              "      <script>\n",
              "        const buttonEl =\n",
              "          document.querySelector('#df-d1309f32-9759-4a0d-a259-c032babdfdaa button.colab-df-convert');\n",
              "        buttonEl.style.display =\n",
              "          google.colab.kernel.accessAllowed ? 'block' : 'none';\n",
              "\n",
              "        async function convertToInteractive(key) {\n",
              "          const element = document.querySelector('#df-d1309f32-9759-4a0d-a259-c032babdfdaa');\n",
              "          const dataTable =\n",
              "            await google.colab.kernel.invokeFunction('convertToInteractive',\n",
              "                                                     [key], {});\n",
              "          if (!dataTable) return;\n",
              "\n",
              "          const docLinkHtml = 'Like what you see? Visit the ' +\n",
              "            '<a target=\"_blank\" href=https://colab.research.google.com/notebooks/data_table.ipynb>data table notebook</a>'\n",
              "            + ' to learn more about interactive tables.';\n",
              "          element.innerHTML = '';\n",
              "          dataTable['output_type'] = 'display_data';\n",
              "          await google.colab.output.renderOutput(dataTable, element);\n",
              "          const docLink = document.createElement('div');\n",
              "          docLink.innerHTML = docLinkHtml;\n",
              "          element.appendChild(docLink);\n",
              "        }\n",
              "      </script>\n",
              "    </div>\n",
              "  </div>\n",
              "  "
            ]
          },
          "metadata": {},
          "execution_count": 34
        }
      ]
    },
    {
      "cell_type": "code",
      "source": [
        "133"
      ],
      "metadata": {
        "id": "rVm0An5iNRqa"
      },
      "execution_count": null,
      "outputs": []
    }
  ]
}